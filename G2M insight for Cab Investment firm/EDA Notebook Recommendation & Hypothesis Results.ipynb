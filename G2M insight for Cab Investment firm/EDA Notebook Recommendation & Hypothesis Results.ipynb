{
 "cells": [
  {
   "cell_type": "code",
   "execution_count": null,
   "id": "b72813c6",
   "metadata": {
    "lines_to_next_cell": 2
   },
   "outputs": [],
   "source": [
    "#G2M insight for Cab Investment firm"
   ]
  },
  {
   "cell_type": "code",
   "execution_count": null,
   "id": "50fe1616",
   "metadata": {
    "lines_to_next_cell": 2
   },
   "outputs": [],
   "source": [
    "import numpy as np\n",
    "import pandas as pd\n",
    "import matplotlib.pyplot as plt\n",
    "%matplotlib inline\n",
    "import seaborn as sns\n",
    "import datetime"
   ]
  },
  {
   "cell_type": "code",
   "execution_count": null,
   "id": "c6a745b2",
   "metadata": {
    "lines_to_next_cell": 2
   },
   "outputs": [],
   "source": [
    "cab_data = pd.read_csv(\"C:/Users/HAZARIKA/Desktop/cab_data.csv\")\n",
    "TransactionID_data = pd.read_csv(\"C:/Users/HAZARIKA/Desktop/Transaction_ID.csv\")\n",
    "City_data = pd.read_csv(\"C:/Users/HAZARIKA/Desktop/City.csv\")\n",
    "CustomerID_data = pd.read_csv(\"C:/Users/HAZARIKA/Desktop/Customer_ID.csv\")"
   ]
  },
  {
   "cell_type": "code",
   "execution_count": null,
   "id": "a1d8fee6",
   "metadata": {
    "lines_to_next_cell": 0
   },
   "outputs": [],
   "source": [
    "cab_data.head()"
   ]
  },
  {
   "cell_type": "markdown",
   "id": "ad836174",
   "metadata": {},
   "source": [
    "\n"
   ]
  },
  {
   "cell_type": "markdown",
   "id": "de74be4f",
   "metadata": {},
   "source": [
    "<div>\n",
    "<style scoped>\n",
    "    .dataframe tbody tr th:only-of-type {\n",
    "        vertical-align: middle;\n",
    "    }\n",
    "\n",
    "    .dataframe tbody tr th {\n",
    "        vertical-align: top;\n",
    "    }\n",
    "\n",
    "    .dataframe thead th {\n",
    "        text-align: right;\n",
    "    }\n",
    "</style>\n",
    "<table border=\"1\" class=\"dataframe\">\n",
    "  <thead>\n",
    "    <tr style=\"text-align: right;\">\n",
    "      <th></th>\n",
    "      <th>Transaction ID</th>\n",
    "      <th>Date of Travel</th>\n",
    "      <th>Company</th>\n",
    "      <th>City</th>\n",
    "      <th>KM Travelled</th>\n",
    "      <th>Price Charged</th>\n",
    "      <th>Cost of Trip</th>\n",
    "    </tr>\n",
    "  </thead>\n",
    "  <tbody>\n",
    "    <tr>\n",
    "      <th>0</th>\n",
    "      <td>10000011</td>\n",
    "      <td>08/01/2016</td>\n",
    "      <td>Pink Cab</td>\n",
    "      <td>ATLANTA GA</td>\n",
    "      <td>30.45</td>\n",
    "      <td>370.95</td>\n",
    "      <td>313.635</td>\n",
    "    </tr>\n",
    "    <tr>\n",
    "      <th>1</th>\n",
    "      <td>10000012</td>\n",
    "      <td>06/01/2016</td>\n",
    "      <td>Pink Cab</td>\n",
    "      <td>ATLANTA GA</td>\n",
    "      <td>28.62</td>\n",
    "      <td>358.52</td>\n",
    "      <td>334.854</td>\n",
    "    </tr>\n",
    "    <tr>\n",
    "      <th>2</th>\n",
    "      <td>10000013</td>\n",
    "      <td>02/01/2016</td>\n",
    "      <td>Pink Cab</td>\n",
    "      <td>ATLANTA GA</td>\n",
    "      <td>9.04</td>\n",
    "      <td>125.20</td>\n",
    "      <td>97.632</td>\n",
    "    </tr>\n",
    "    <tr>\n",
    "      <th>3</th>\n",
    "      <td>10000014</td>\n",
    "      <td>07/01/2016</td>\n",
    "      <td>Pink Cab</td>\n",
    "      <td>ATLANTA GA</td>\n",
    "      <td>33.17</td>\n",
    "      <td>377.40</td>\n",
    "      <td>351.602</td>\n",
    "    </tr>\n",
    "    <tr>\n",
    "      <th>4</th>\n",
    "      <td>10000015</td>\n",
    "      <td>03/01/2016</td>\n",
    "      <td>Pink Cab</td>\n",
    "      <td>ATLANTA GA</td>\n",
    "      <td>8.73</td>\n",
    "      <td>114.62</td>\n",
    "      <td>97.776</td>\n",
    "    </tr>\n",
    "  </tbody>\n",
    "</table>\n",
    "</div>\n",
    "\n",
    "\n"
   ]
  },
  {
   "cell_type": "code",
   "execution_count": null,
   "id": "aa0fa7c2",
   "metadata": {},
   "outputs": [],
   "source": [
    "cab_data.info()"
   ]
  },
  {
   "cell_type": "markdown",
   "id": "4c615ecf",
   "metadata": {},
   "source": [
    "    <class 'pandas.core.frame.DataFrame'>\n",
    "    RangeIndex: 359392 entries, 0 to 359391\n",
    "    Data columns (total 7 columns):\n",
    "     #   Column          Non-Null Count   Dtype  \n",
    "    ---  ------          --------------   -----  \n",
    "     0   Transaction ID  359392 non-null  int64  \n",
    "     1   Date of Travel  359392 non-null  object \n",
    "     2   Company         359392 non-null  object \n",
    "     3   City            359392 non-null  object \n",
    "     4   KM Travelled    359392 non-null  float64\n",
    "     5   Price Charged   359392 non-null  float64\n",
    "     6   Cost of Trip    359392 non-null  float64\n",
    "    dtypes: float64(3), int64(1), object(3)\n",
    "    memory usage: 19.2+ MB\n",
    "    \n"
   ]
  },
  {
   "cell_type": "code",
   "execution_count": null,
   "id": "951f6af0",
   "metadata": {
    "lines_to_next_cell": 0
   },
   "outputs": [],
   "source": [
    "cab_data.shape"
   ]
  },
  {
   "cell_type": "markdown",
   "id": "9bda9fd9",
   "metadata": {
    "lines_to_next_cell": 0
   },
   "source": [
    "\n",
    "\n",
    "\n",
    "\n",
    "    (359392, 7)\n",
    "\n",
    "\n",
    "\n"
   ]
  },
  {
   "cell_type": "code",
   "execution_count": null,
   "id": "8df9bd18",
   "metadata": {},
   "outputs": [],
   "source": [
    "TransactionID_data.info()"
   ]
  },
  {
   "cell_type": "markdown",
   "id": "dd6b0e26",
   "metadata": {},
   "source": [
    "    <class 'pandas.core.frame.DataFrame'>\n",
    "    RangeIndex: 440098 entries, 0 to 440097\n",
    "    Data columns (total 3 columns):\n",
    "     #   Column          Non-Null Count   Dtype \n",
    "    ---  ------          --------------   ----- \n",
    "     0   Transaction ID  440098 non-null  int64 \n",
    "     1   Customer ID     440098 non-null  int64 \n",
    "     2   Payment_Mode    440098 non-null  object\n",
    "    dtypes: int64(2), object(1)\n",
    "    memory usage: 10.1+ MB\n",
    "    \n"
   ]
  },
  {
   "cell_type": "code",
   "execution_count": null,
   "id": "2c2eb996",
   "metadata": {
    "lines_to_next_cell": 0
   },
   "outputs": [],
   "source": [
    "TransactionID_data.shape"
   ]
  },
  {
   "cell_type": "markdown",
   "id": "b2a399c5",
   "metadata": {
    "lines_to_next_cell": 0
   },
   "source": [
    "\n",
    "\n",
    "\n",
    "\n",
    "    (440098, 3)\n",
    "\n",
    "\n",
    "\n"
   ]
  },
  {
   "cell_type": "code",
   "execution_count": null,
   "id": "f7943479",
   "metadata": {},
   "outputs": [],
   "source": [
    "City_data.info()"
   ]
  },
  {
   "cell_type": "markdown",
   "id": "43deed62",
   "metadata": {},
   "source": [
    "    <class 'pandas.core.frame.DataFrame'>\n",
    "    RangeIndex: 20 entries, 0 to 19\n",
    "    Data columns (total 3 columns):\n",
    "     #   Column      Non-Null Count  Dtype \n",
    "    ---  ------      --------------  ----- \n",
    "     0   City        20 non-null     object\n",
    "     1   Population  20 non-null     object\n",
    "     2   Users       20 non-null     object\n",
    "    dtypes: object(3)\n",
    "    memory usage: 608.0+ bytes\n",
    "    \n"
   ]
  },
  {
   "cell_type": "code",
   "execution_count": null,
   "id": "19ca1413",
   "metadata": {
    "lines_to_next_cell": 0
   },
   "outputs": [],
   "source": [
    "City_data.shape"
   ]
  },
  {
   "cell_type": "markdown",
   "id": "cf32cee2",
   "metadata": {
    "lines_to_next_cell": 0
   },
   "source": [
    "\n",
    "\n",
    "\n",
    "\n",
    "    (20, 3)\n",
    "\n",
    "\n",
    "\n"
   ]
  },
  {
   "cell_type": "code",
   "execution_count": null,
   "id": "b7cbfa70",
   "metadata": {},
   "outputs": [],
   "source": [
    "CustomerID_data.info()"
   ]
  },
  {
   "cell_type": "markdown",
   "id": "be92edc4",
   "metadata": {},
   "source": [
    "    <class 'pandas.core.frame.DataFrame'>\n",
    "    RangeIndex: 49171 entries, 0 to 49170\n",
    "    Data columns (total 4 columns):\n",
    "     #   Column              Non-Null Count  Dtype \n",
    "    ---  ------              --------------  ----- \n",
    "     0   Customer ID         49171 non-null  int64 \n",
    "     1   Gender              49171 non-null  object\n",
    "     2   Age                 49171 non-null  int64 \n",
    "     3   Income (USD/Month)  49171 non-null  int64 \n",
    "    dtypes: int64(3), object(1)\n",
    "    memory usage: 1.5+ MB\n",
    "    \n"
   ]
  },
  {
   "cell_type": "code",
   "execution_count": null,
   "id": "ab4cd32b",
   "metadata": {
    "lines_to_next_cell": 0
   },
   "outputs": [],
   "source": [
    "CustomerID_data.shape"
   ]
  },
  {
   "cell_type": "markdown",
   "id": "9edeccf0",
   "metadata": {
    "lines_to_next_cell": 0
   },
   "source": [
    "\n",
    "\n",
    "\n",
    "\n",
    "    (49171, 4)\n",
    "\n",
    "\n",
    "\n"
   ]
  },
  {
   "cell_type": "code",
   "execution_count": null,
   "id": "2260f290",
   "metadata": {
    "lines_to_next_cell": 0
   },
   "outputs": [],
   "source": [
    "cab_data.isnull().sum()"
   ]
  },
  {
   "cell_type": "markdown",
   "id": "6e16115c",
   "metadata": {
    "lines_to_next_cell": 0
   },
   "source": [
    "\n",
    "\n",
    "\n",
    "\n",
    "    Transaction ID    0\n",
    "    Date of Travel    0\n",
    "    Company           0\n",
    "    City              0\n",
    "    KM Travelled      0\n",
    "    Price Charged     0\n",
    "    Cost of Trip      0\n",
    "    dtype: int64\n",
    "\n",
    "\n",
    "\n"
   ]
  },
  {
   "cell_type": "code",
   "execution_count": null,
   "id": "a5de9c6a",
   "metadata": {
    "lines_to_next_cell": 0
   },
   "outputs": [],
   "source": [
    "TransactionID_data.isnull().sum()"
   ]
  },
  {
   "cell_type": "markdown",
   "id": "4d11f5f1",
   "metadata": {
    "lines_to_next_cell": 0
   },
   "source": [
    "\n",
    "\n",
    "\n",
    "\n",
    "    Transaction ID    0\n",
    "    Customer ID       0\n",
    "    Payment_Mode      0\n",
    "    dtype: int64\n",
    "\n",
    "\n",
    "\n"
   ]
  },
  {
   "cell_type": "code",
   "execution_count": null,
   "id": "915f4bb1",
   "metadata": {
    "lines_to_next_cell": 0
   },
   "outputs": [],
   "source": [
    "City_data.isnull().sum()"
   ]
  },
  {
   "cell_type": "markdown",
   "id": "01c80304",
   "metadata": {
    "lines_to_next_cell": 0
   },
   "source": [
    "\n",
    "\n",
    "\n",
    "\n",
    "    City          0\n",
    "    Population    0\n",
    "    Users         0\n",
    "    dtype: int64\n",
    "\n",
    "\n",
    "\n"
   ]
  },
  {
   "cell_type": "code",
   "execution_count": null,
   "id": "fcfaa66b",
   "metadata": {
    "lines_to_next_cell": 0
   },
   "outputs": [],
   "source": [
    "CustomerID_data.isnull().sum()"
   ]
  },
  {
   "cell_type": "markdown",
   "id": "b51c0578",
   "metadata": {
    "lines_to_next_cell": 0
   },
   "source": [
    "\n",
    "\n",
    "\n",
    "\n",
    "    Customer ID           0\n",
    "    Gender                0\n",
    "    Age                   0\n",
    "    Income (USD/Month)    0\n",
    "    dtype: int64\n",
    "\n",
    "\n",
    "\n"
   ]
  },
  {
   "cell_type": "code",
   "execution_count": null,
   "id": "fc961eaa",
   "metadata": {
    "lines_to_next_cell": 2
   },
   "outputs": [],
   "source": [
    "for col in cab_data.columns:\n",
    "    if ' ' in col:\n",
    "        cab_data = cab_data.rename(columns={col:col.replace(' ','_')})"
   ]
  },
  {
   "cell_type": "code",
   "execution_count": null,
   "id": "62d8cfbc",
   "metadata": {
    "lines_to_next_cell": 2
   },
   "outputs": [],
   "source": [
    "for col in TransactionID_data.columns:\n",
    "    if ' ' in col:\n",
    "        TransactionID_data = TransactionID_data.rename(columns={col:col.replace(' ','_')})"
   ]
  },
  {
   "cell_type": "code",
   "execution_count": null,
   "id": "0c920fff",
   "metadata": {
    "lines_to_next_cell": 2
   },
   "outputs": [],
   "source": [
    "for col in CustomerID_data.columns:\n",
    "    if ' ' in col:\n",
    "        CustomerID_data = CustomerID_data.rename(columns={col:col.replace(' ','_')})"
   ]
  },
  {
   "cell_type": "code",
   "execution_count": null,
   "id": "172d72f0",
   "metadata": {
    "lines_to_next_cell": 2
   },
   "outputs": [],
   "source": [
    "cab_data['Date_of_Travel'] = pd.to_datetime(cab_data['Date_of_Travel'], format='%d/%m/%Y')"
   ]
  },
  {
   "cell_type": "code",
   "execution_count": null,
   "id": "6efcb93d",
   "metadata": {
    "lines_to_next_cell": 2
   },
   "outputs": [],
   "source": [
    "months=[]\n",
    "years =[]\n",
    "for i in range(len(cab_data['Date_of_Travel'])):\n",
    "    months.append(cab_data['Date_of_Travel'][i].month)\n",
    "    years.append(cab_data['Date_of_Travel'][i].year)\n",
    "cab_data['Month'] = months\n",
    "cab_data['Year'] = years\n",
    "\n",
    "cab_data.drop('Date_of_Travel', axis=1, inplace=True)"
   ]
  },
  {
   "cell_type": "code",
   "execution_count": null,
   "id": "76bf6bbe",
   "metadata": {
    "lines_to_next_cell": 2
   },
   "outputs": [],
   "source": [
    "# before doing EDA, let's split the dataset into Pink Cab and Yellow Cab\n",
    "PinkCab = cab_data[cab_data['Company']=='Pink Cab']\n",
    "YellowCab = cab_data[cab_data['Company']=='Yellow Cab']"
   ]
  },
  {
   "cell_type": "code",
   "execution_count": null,
   "id": "3ea49424",
   "metadata": {
    "lines_to_next_cell": 0
   },
   "outputs": [],
   "source": [
    "cab_data.head()"
   ]
  },
  {
   "cell_type": "markdown",
   "id": "3aabc3db",
   "metadata": {},
   "source": [
    "\n"
   ]
  },
  {
   "cell_type": "markdown",
   "id": "f6b32b6b",
   "metadata": {},
   "source": [
    "<div>\n",
    "<style scoped>\n",
    "    .dataframe tbody tr th:only-of-type {\n",
    "        vertical-align: middle;\n",
    "    }\n",
    "\n",
    "    .dataframe tbody tr th {\n",
    "        vertical-align: top;\n",
    "    }\n",
    "\n",
    "    .dataframe thead th {\n",
    "        text-align: right;\n",
    "    }\n",
    "</style>\n",
    "<table border=\"1\" class=\"dataframe\">\n",
    "  <thead>\n",
    "    <tr style=\"text-align: right;\">\n",
    "      <th></th>\n",
    "      <th>Transaction_ID</th>\n",
    "      <th>Company</th>\n",
    "      <th>City</th>\n",
    "      <th>KM_Travelled</th>\n",
    "      <th>Price_Charged</th>\n",
    "      <th>Cost_of_Trip</th>\n",
    "      <th>Month</th>\n",
    "      <th>Year</th>\n",
    "    </tr>\n",
    "  </thead>\n",
    "  <tbody>\n",
    "    <tr>\n",
    "      <th>0</th>\n",
    "      <td>10000011</td>\n",
    "      <td>Pink Cab</td>\n",
    "      <td>ATLANTA GA</td>\n",
    "      <td>30.45</td>\n",
    "      <td>370.95</td>\n",
    "      <td>313.635</td>\n",
    "      <td>1</td>\n",
    "      <td>2016</td>\n",
    "    </tr>\n",
    "    <tr>\n",
    "      <th>1</th>\n",
    "      <td>10000012</td>\n",
    "      <td>Pink Cab</td>\n",
    "      <td>ATLANTA GA</td>\n",
    "      <td>28.62</td>\n",
    "      <td>358.52</td>\n",
    "      <td>334.854</td>\n",
    "      <td>1</td>\n",
    "      <td>2016</td>\n",
    "    </tr>\n",
    "    <tr>\n",
    "      <th>2</th>\n",
    "      <td>10000013</td>\n",
    "      <td>Pink Cab</td>\n",
    "      <td>ATLANTA GA</td>\n",
    "      <td>9.04</td>\n",
    "      <td>125.20</td>\n",
    "      <td>97.632</td>\n",
    "      <td>1</td>\n",
    "      <td>2016</td>\n",
    "    </tr>\n",
    "    <tr>\n",
    "      <th>3</th>\n",
    "      <td>10000014</td>\n",
    "      <td>Pink Cab</td>\n",
    "      <td>ATLANTA GA</td>\n",
    "      <td>33.17</td>\n",
    "      <td>377.40</td>\n",
    "      <td>351.602</td>\n",
    "      <td>1</td>\n",
    "      <td>2016</td>\n",
    "    </tr>\n",
    "    <tr>\n",
    "      <th>4</th>\n",
    "      <td>10000015</td>\n",
    "      <td>Pink Cab</td>\n",
    "      <td>ATLANTA GA</td>\n",
    "      <td>8.73</td>\n",
    "      <td>114.62</td>\n",
    "      <td>97.776</td>\n",
    "      <td>1</td>\n",
    "      <td>2016</td>\n",
    "    </tr>\n",
    "  </tbody>\n",
    "</table>\n",
    "</div>\n",
    "\n",
    "\n"
   ]
  },
  {
   "cell_type": "code",
   "execution_count": null,
   "id": "5c09e1ea",
   "metadata": {
    "lines_to_next_cell": 0
   },
   "outputs": [],
   "source": [
    "plot0 = cab_data[cab_data.Company=='Pink Cab'].groupby(['Month']).Transaction_ID.count()\n",
    "plot0"
   ]
  },
  {
   "cell_type": "markdown",
   "id": "e4ac4696",
   "metadata": {
    "lines_to_next_cell": 0
   },
   "source": [
    "\n",
    "\n",
    "\n",
    "\n",
    "    Month\n",
    "    1      5057\n",
    "    2      3375\n",
    "    3      4223\n",
    "    4      4083\n",
    "    5      4960\n",
    "    6      5877\n",
    "    7      6590\n",
    "    8      7739\n",
    "    9      9658\n",
    "    10    10576\n",
    "    11    11005\n",
    "    12    11568\n",
    "    Name: Transaction_ID, dtype: int64\n",
    "\n",
    "\n",
    "\n"
   ]
  },
  {
   "cell_type": "code",
   "execution_count": null,
   "id": "eba21234",
   "metadata": {
    "lines_to_next_cell": 0
   },
   "outputs": [],
   "source": [
    "plt.figure(figsize=(14,6))\n",
    "sns.barplot(x=plot0.index,y=plot0.values)\n",
    "plt.title('Travel frequency by Month (Pink Cab)')\n",
    "plt.show()"
   ]
  },
  {
   "cell_type": "markdown",
   "id": "a1299c5f",
   "metadata": {},
   "source": []
  },
  {
   "cell_type": "markdown",
   "id": "24285f49",
   "metadata": {},
   "source": [
    "![png](output_24_0.png)\n",
    "    \n",
    "\n"
   ]
  },
  {
   "cell_type": "code",
   "execution_count": null,
   "id": "f9253290",
   "metadata": {
    "lines_to_next_cell": 0
   },
   "outputs": [],
   "source": [
    "plot10 = cab_data[cab_data.Company=='Yellow Cab'].groupby(['Month']).Transaction_ID.count()\n",
    "plot10"
   ]
  },
  {
   "cell_type": "markdown",
   "id": "974becf8",
   "metadata": {
    "lines_to_next_cell": 0
   },
   "source": [
    "\n",
    "\n",
    "\n",
    "\n",
    "    Month\n",
    "    1     18117\n",
    "    2     14932\n",
    "    3     17423\n",
    "    4     17351\n",
    "    5     18741\n",
    "    6     18836\n",
    "    7     21086\n",
    "    8     23584\n",
    "    9     27201\n",
    "    10    30276\n",
    "    11    31695\n",
    "    12    35439\n",
    "    Name: Transaction_ID, dtype: int64\n",
    "\n",
    "\n",
    "\n"
   ]
  },
  {
   "cell_type": "code",
   "execution_count": null,
   "id": "08d17e56",
   "metadata": {
    "lines_to_next_cell": 0
   },
   "outputs": [],
   "source": [
    "plt.figure(figsize=(14,6))\n",
    "sns.barplot(x=plot10.index,y=plot10.values)\n",
    "plt.title('Travel frequency by Month (Yellow Cab)')\n",
    "plt.show()"
   ]
  },
  {
   "cell_type": "markdown",
   "id": "d44b3894",
   "metadata": {},
   "source": []
  },
  {
   "cell_type": "markdown",
   "id": "6fbd0e48",
   "metadata": {},
   "source": [
    "![png](output_26_0.png)\n",
    "    \n",
    "\n"
   ]
  },
  {
   "cell_type": "code",
   "execution_count": null,
   "id": "12fa3de6",
   "metadata": {
    "lines_to_next_cell": 2
   },
   "outputs": [],
   "source": [
    "# Yellow Cab has higher travels (35000) in the month of December which is the holiday season compared to Pink Cab (11000)."
   ]
  },
  {
   "cell_type": "code",
   "execution_count": null,
   "id": "3da99b3b",
   "metadata": {
    "lines_to_next_cell": 2
   },
   "outputs": [],
   "source": [
    "overall_distance = cab_data['KM_Travelled'].describe()\n",
    "PinkCab_distance = PinkCab['KM_Travelled'].describe()\n",
    "YellowCab_distance = YellowCab['KM_Travelled'].describe()"
   ]
  },
  {
   "cell_type": "code",
   "execution_count": null,
   "id": "255d9cbd",
   "metadata": {
    "lines_to_next_cell": 0
   },
   "outputs": [],
   "source": [
    "df = pd.DataFrame({'Overall': overall_distance.values,\n",
    "                  'PinkCab': PinkCab_distance.values,\n",
    "                  'YellowCab': YellowCab_distance.values}, index= ['Count', 'Mean', 'Std. Dev.', 'Min', '25%', '50%', '75%', 'Max'])\n",
    "df"
   ]
  },
  {
   "cell_type": "markdown",
   "id": "e7771441",
   "metadata": {},
   "source": [
    "\n"
   ]
  },
  {
   "cell_type": "markdown",
   "id": "1e8c6e6b",
   "metadata": {},
   "source": [
    "<div>\n",
    "<style scoped>\n",
    "    .dataframe tbody tr th:only-of-type {\n",
    "        vertical-align: middle;\n",
    "    }\n",
    "\n",
    "    .dataframe tbody tr th {\n",
    "        vertical-align: top;\n",
    "    }\n",
    "\n",
    "    .dataframe thead th {\n",
    "        text-align: right;\n",
    "    }\n",
    "</style>\n",
    "<table border=\"1\" class=\"dataframe\">\n",
    "  <thead>\n",
    "    <tr style=\"text-align: right;\">\n",
    "      <th></th>\n",
    "      <th>Overall</th>\n",
    "      <th>PinkCab</th>\n",
    "      <th>YellowCab</th>\n",
    "    </tr>\n",
    "  </thead>\n",
    "  <tbody>\n",
    "    <tr>\n",
    "      <th>Count</th>\n",
    "      <td>359392.000000</td>\n",
    "      <td>84711.000000</td>\n",
    "      <td>274681.000000</td>\n",
    "    </tr>\n",
    "    <tr>\n",
    "      <th>Mean</th>\n",
    "      <td>22.567254</td>\n",
    "      <td>22.559917</td>\n",
    "      <td>22.569517</td>\n",
    "    </tr>\n",
    "    <tr>\n",
    "      <th>Std. Dev.</th>\n",
    "      <td>12.233526</td>\n",
    "      <td>12.231092</td>\n",
    "      <td>12.234298</td>\n",
    "    </tr>\n",
    "    <tr>\n",
    "      <th>Min</th>\n",
    "      <td>1.900000</td>\n",
    "      <td>1.900000</td>\n",
    "      <td>1.900000</td>\n",
    "    </tr>\n",
    "    <tr>\n",
    "      <th>25%</th>\n",
    "      <td>12.000000</td>\n",
    "      <td>12.000000</td>\n",
    "      <td>11.990000</td>\n",
    "    </tr>\n",
    "    <tr>\n",
    "      <th>50%</th>\n",
    "      <td>22.440000</td>\n",
    "      <td>22.440000</td>\n",
    "      <td>22.440000</td>\n",
    "    </tr>\n",
    "    <tr>\n",
    "      <th>75%</th>\n",
    "      <td>32.960000</td>\n",
    "      <td>32.960000</td>\n",
    "      <td>32.960000</td>\n",
    "    </tr>\n",
    "    <tr>\n",
    "      <th>Max</th>\n",
    "      <td>48.000000</td>\n",
    "      <td>48.000000</td>\n",
    "      <td>48.000000</td>\n",
    "    </tr>\n",
    "  </tbody>\n",
    "</table>\n",
    "</div>\n",
    "\n",
    "\n"
   ]
  },
  {
   "cell_type": "code",
   "execution_count": null,
   "id": "a1cbdc06",
   "metadata": {},
   "outputs": [],
   "source": [
    "ax = sns.distplot(PinkCab['KM_Travelled'], kde=False, color='green')\n",
    "plt.title(\"Distribution of KM Travelled (Pink Cab)\", fontsize=20, y=1.012)\n",
    "plt.xlabel(\"KM Travelled\", labelpad=15)\n",
    "plt.ylabel(\"frequency\", labelpad=15)"
   ]
  },
  {
   "cell_type": "markdown",
   "id": "d8f4a9ef",
   "metadata": {},
   "source": [
    "    C:\\Users\\HAZARIKA\\anaconda3\\lib\\site-packages\\seaborn\\distributions.py:2551: FutureWarning: `distplot` is a deprecated function and will be removed in a future version. Please adapt your code to use either `displot` (a figure-level function with similar flexibility) or `histplot` (an axes-level function for histograms).\n",
    "      warnings.warn(msg, FutureWarning)\n",
    "    \n",
    "\n",
    "\n",
    "\n",
    "\n",
    "    Text(0, 0.5, 'frequency')\n",
    "\n",
    "\n",
    "\n",
    "\n",
    "    \n",
    "![png](output_30_2.png)\n",
    "    \n",
    "\n"
   ]
  },
  {
   "cell_type": "code",
   "execution_count": null,
   "id": "d2645756",
   "metadata": {
    "lines_to_next_cell": 0
   },
   "outputs": [],
   "source": [
    "ax = sns.distplot(YellowCab['KM_Travelled'], kde=False, color='green')\n",
    "plt.title(\"Distribution of KM Travelled (Yellow Cab)\", fontsize=20, y=1.012)\n",
    "plt.xlabel(\"KM Travelled\", labelpad=15)\n",
    "plt.ylabel(\"frequency\", labelpad=15)"
   ]
  },
  {
   "cell_type": "markdown",
   "id": "c04f92f4",
   "metadata": {},
   "source": [
    "\n",
    "\n",
    "\n",
    "\n",
    "    Text(0, 0.5, 'frequency')\n",
    "\n",
    "\n",
    "\n",
    "\n",
    "    \n",
    "![png](output_31_1.png)\n",
    "    \n",
    "\n"
   ]
  },
  {
   "cell_type": "code",
   "execution_count": null,
   "id": "79eecfa0",
   "metadata": {
    "lines_to_next_cell": 2
   },
   "outputs": [],
   "source": [
    "#From the above graphs, we can see that most of the rides are in the range of approximately 2 to 48 KM. "
   ]
  },
  {
   "cell_type": "code",
   "execution_count": null,
   "id": "3887ba20",
   "metadata": {
    "lines_to_next_cell": 2
   },
   "outputs": [],
   "source": [
    "overall_price = cab_data['Price_Charged'].describe()\n",
    "PinkCab_price = PinkCab['Price_Charged'].describe()\n",
    "YellowCab_price = YellowCab['Price_Charged'].describe()"
   ]
  },
  {
   "cell_type": "code",
   "execution_count": null,
   "id": "8a3967da",
   "metadata": {
    "lines_to_next_cell": 0
   },
   "outputs": [],
   "source": [
    "df = pd.DataFrame({'Overall': overall_price.values,\n",
    "                  'PinkCab': PinkCab_price.values,\n",
    "                  'YellowCab': YellowCab_price.values}, index= ['Count', 'Mean', 'Std. Dev.', 'Min', '25%', '50%', '75%', 'Max'])\n",
    "df"
   ]
  },
  {
   "cell_type": "markdown",
   "id": "15592b6e",
   "metadata": {},
   "source": [
    "\n"
   ]
  },
  {
   "cell_type": "markdown",
   "id": "d24cb675",
   "metadata": {},
   "source": [
    "<div>\n",
    "<style scoped>\n",
    "    .dataframe tbody tr th:only-of-type {\n",
    "        vertical-align: middle;\n",
    "    }\n",
    "\n",
    "    .dataframe tbody tr th {\n",
    "        vertical-align: top;\n",
    "    }\n",
    "\n",
    "    .dataframe thead th {\n",
    "        text-align: right;\n",
    "    }\n",
    "</style>\n",
    "<table border=\"1\" class=\"dataframe\">\n",
    "  <thead>\n",
    "    <tr style=\"text-align: right;\">\n",
    "      <th></th>\n",
    "      <th>Overall</th>\n",
    "      <th>PinkCab</th>\n",
    "      <th>YellowCab</th>\n",
    "    </tr>\n",
    "  </thead>\n",
    "  <tbody>\n",
    "    <tr>\n",
    "      <th>Count</th>\n",
    "      <td>359392.000000</td>\n",
    "      <td>84711.000000</td>\n",
    "      <td>274681.000000</td>\n",
    "    </tr>\n",
    "    <tr>\n",
    "      <th>Mean</th>\n",
    "      <td>423.443311</td>\n",
    "      <td>310.800856</td>\n",
    "      <td>458.181990</td>\n",
    "    </tr>\n",
    "    <tr>\n",
    "      <th>Std. Dev.</th>\n",
    "      <td>274.378911</td>\n",
    "      <td>181.995661</td>\n",
    "      <td>288.386166</td>\n",
    "    </tr>\n",
    "    <tr>\n",
    "      <th>Min</th>\n",
    "      <td>15.600000</td>\n",
    "      <td>15.600000</td>\n",
    "      <td>20.730000</td>\n",
    "    </tr>\n",
    "    <tr>\n",
    "      <th>25%</th>\n",
    "      <td>206.437500</td>\n",
    "      <td>159.970000</td>\n",
    "      <td>226.680000</td>\n",
    "    </tr>\n",
    "    <tr>\n",
    "      <th>50%</th>\n",
    "      <td>386.360000</td>\n",
    "      <td>298.060000</td>\n",
    "      <td>425.060000</td>\n",
    "    </tr>\n",
    "    <tr>\n",
    "      <th>75%</th>\n",
    "      <td>583.660000</td>\n",
    "      <td>441.505000</td>\n",
    "      <td>633.880000</td>\n",
    "    </tr>\n",
    "    <tr>\n",
    "      <th>Max</th>\n",
    "      <td>2048.030000</td>\n",
    "      <td>1623.480000</td>\n",
    "      <td>2048.030000</td>\n",
    "    </tr>\n",
    "  </tbody>\n",
    "</table>\n",
    "</div>\n",
    "\n",
    "\n"
   ]
  },
  {
   "cell_type": "code",
   "execution_count": null,
   "id": "928a7d5d",
   "metadata": {},
   "outputs": [],
   "source": [
    "fig, (ax1, ax2) = plt.subplots(ncols=2, figsize=(20,7))\n",
    "sns.boxplot(PinkCab['Price_Charged'], ax=ax1)\n",
    "ax1.set_title('Pink Cab', fontsize=20)\n",
    "sns.boxplot(YellowCab['Price_Charged'], ax=ax2)\n",
    "ax2.set_title('Yellow Cab', fontsize=20)"
   ]
  },
  {
   "cell_type": "markdown",
   "id": "e2d5d920",
   "metadata": {},
   "source": [
    "    C:\\Users\\HAZARIKA\\anaconda3\\lib\\site-packages\\seaborn\\_decorators.py:36: FutureWarning: Pass the following variable as a keyword arg: x. From version 0.12, the only valid positional argument will be `data`, and passing other arguments without an explicit keyword will result in an error or misinterpretation.\n",
    "      warnings.warn(\n",
    "    C:\\Users\\HAZARIKA\\anaconda3\\lib\\site-packages\\seaborn\\_decorators.py:36: FutureWarning: Pass the following variable as a keyword arg: x. From version 0.12, the only valid positional argument will be `data`, and passing other arguments without an explicit keyword will result in an error or misinterpretation.\n",
    "      warnings.warn(\n",
    "    \n",
    "\n",
    "\n",
    "\n",
    "\n",
    "    Text(0.5, 1.0, 'Yellow Cab')\n",
    "\n",
    "\n",
    "\n",
    "\n",
    "    \n",
    "![png](output_35_2.png)\n",
    "    \n",
    "\n"
   ]
  },
  {
   "cell_type": "code",
   "execution_count": null,
   "id": "fab18796",
   "metadata": {
    "lines_to_next_cell": 2
   },
   "outputs": [],
   "source": [
    "#Outliers\n",
    "#These outliers are due to use of high-end cars so decided to keep it.\n",
    "#The price charge range for Yellow cab is more than the Pink cab."
   ]
  },
  {
   "cell_type": "code",
   "execution_count": null,
   "id": "d1742caa",
   "metadata": {},
   "outputs": [],
   "source": [
    "fig, (ax1, ax2) = plt.subplots(ncols=2, figsize=(20, 7))\n",
    "sns.scatterplot(PinkCab['KM_Travelled'], PinkCab['Price_Charged'], ax=ax1)\n",
    "ax1.set_title('Price vs Distance in Pink Cab', fontsize=20)\n",
    "ax1.set_xticklabels(ax1.get_xticklabels(), rotation=0, fontsize=15)\n",
    "sns.scatterplot(YellowCab['KM_Travelled'], YellowCab['Price_Charged'], ax=ax2)\n",
    "ax2.set_title('Price vs Distance in Yellow Cab', fontsize=20)\n",
    "ax2.set_xticklabels(ax2.get_xticklabels(), rotation=0, fontsize=15)"
   ]
  },
  {
   "cell_type": "markdown",
   "id": "c61b6e04",
   "metadata": {},
   "source": [
    "    C:\\Users\\HAZARIKA\\anaconda3\\lib\\site-packages\\seaborn\\_decorators.py:36: FutureWarning: Pass the following variables as keyword args: x, y. From version 0.12, the only valid positional argument will be `data`, and passing other arguments without an explicit keyword will result in an error or misinterpretation.\n",
    "      warnings.warn(\n",
    "    <ipython-input-38-1cae77d1c2d5>:4: UserWarning: FixedFormatter should only be used together with FixedLocator\n",
    "      ax1.set_xticklabels(ax1.get_xticklabels(), rotation=0, fontsize=15)\n",
    "    C:\\Users\\HAZARIKA\\anaconda3\\lib\\site-packages\\seaborn\\_decorators.py:36: FutureWarning: Pass the following variables as keyword args: x, y. From version 0.12, the only valid positional argument will be `data`, and passing other arguments without an explicit keyword will result in an error or misinterpretation.\n",
    "      warnings.warn(\n",
    "    <ipython-input-38-1cae77d1c2d5>:7: UserWarning: FixedFormatter should only be used together with FixedLocator\n",
    "      ax2.set_xticklabels(ax2.get_xticklabels(), rotation=0, fontsize=15)\n",
    "    \n",
    "\n",
    "\n",
    "\n",
    "\n",
    "    [Text(-10.0, 0, ''),\n",
    "     Text(0.0, 0, ''),\n",
    "     Text(10.0, 0, ''),\n",
    "     Text(20.0, 0, ''),\n",
    "     Text(30.0, 0, ''),\n",
    "     Text(40.0, 0, ''),\n",
    "     Text(50.0, 0, ''),\n",
    "     Text(60.0, 0, '')]\n",
    "\n",
    "\n",
    "\n",
    "\n",
    "    \n",
    "![png](output_37_2.png)\n",
    "    \n",
    "\n"
   ]
  },
  {
   "cell_type": "code",
   "execution_count": null,
   "id": "969b5f23",
   "metadata": {
    "lines_to_next_cell": 0
   },
   "outputs": [],
   "source": [
    "PinkCab['KM_Travelled'].corr(PinkCab['Price_Charged'])"
   ]
  },
  {
   "cell_type": "markdown",
   "id": "2d36c226",
   "metadata": {
    "lines_to_next_cell": 0
   },
   "source": [
    "\n",
    "\n",
    "\n",
    "\n",
    "    0.9277652782594857\n",
    "\n",
    "\n",
    "\n"
   ]
  },
  {
   "cell_type": "code",
   "execution_count": null,
   "id": "a4f1e9e3",
   "metadata": {
    "lines_to_next_cell": 0
   },
   "outputs": [],
   "source": [
    "YellowCab['KM_Travelled'].corr(YellowCab['Price_Charged'])"
   ]
  },
  {
   "cell_type": "markdown",
   "id": "f5c19393",
   "metadata": {
    "lines_to_next_cell": 0
   },
   "source": [
    "\n",
    "\n",
    "\n",
    "\n",
    "    0.8597086294478461\n",
    "\n",
    "\n",
    "\n"
   ]
  },
  {
   "cell_type": "code",
   "execution_count": null,
   "id": "3dc57c2d",
   "metadata": {
    "lines_to_next_cell": 2
   },
   "outputs": [],
   "source": [
    "#Distance is one of the important factors, which drives the price of the rides. \n",
    "#We could see that there is a positive correlation in the graph for both Pink and Yellow cab.\n",
    "#The price for Yellow cab is higher compared to Pink cab."
   ]
  },
  {
   "cell_type": "code",
   "execution_count": null,
   "id": "4822c6b4",
   "metadata": {
    "lines_to_next_cell": 0
   },
   "outputs": [],
   "source": [
    "plot1 = cab_data[cab_data.Company=='Pink Cab'].groupby('Year').Transaction_ID.count()\n",
    "plot2 = cab_data[cab_data.Company=='Yellow Cab'].groupby('Year').Transaction_ID.count()\n",
    "plt.figure(figsize=(14,6))\n",
    "ax = plt.subplot(111)\n",
    "ax.bar(plot1.index-0.2, plot1.values, width=0.4, color='pink', align='center',label='Pink Cab')\n",
    "ax.bar(plot1.index+0.2, plot2.values, width=0.4, color='yellow', align='center',label='Yellow Cab')\n",
    "plt.ylabel('No. of Transactions')\n",
    "plt.xlabel('Year')\n",
    "plt.legend()\n",
    "plt.show()"
   ]
  },
  {
   "cell_type": "markdown",
   "id": "7fee0f93",
   "metadata": {},
   "source": []
  },
  {
   "cell_type": "markdown",
   "id": "3fc82428",
   "metadata": {},
   "source": [
    "![png](output_41_0.png)\n",
    "    \n",
    "\n"
   ]
  },
  {
   "cell_type": "code",
   "execution_count": null,
   "id": "fee859e6",
   "metadata": {
    "lines_to_next_cell": 2
   },
   "outputs": [],
   "source": [
    "# From the graph it shows that on yearly basis no. of transactions for Yellow cab is higher than Pink cab."
   ]
  },
  {
   "cell_type": "code",
   "execution_count": null,
   "id": "40705142",
   "metadata": {
    "lines_to_next_cell": 0
   },
   "outputs": [],
   "source": [
    "plot1 = cab_data[cab_data.Company=='Pink Cab'].groupby('Year').Transaction_ID.count()\n",
    "plot3 = cab_data[cab_data.Company=='Pink Cab'].groupby('Year').Price_Charged.mean()\n",
    "plot4 = cab_data[cab_data.Company=='Pink Cab'].groupby('Year').Cost_of_Trip.mean()\n",
    "plt.figure(figsize=(9,4))\n",
    "ax = plt.subplot(111)\n",
    "ax.bar(plot1.index-0.2, plot4.values, width=0.4, color='blue', align='center',label='Cost of the Trip')\n",
    "ax.bar(plot1.index+0.2, plot3.values, width=0.4, color='red', align='center',label='Price Charged')\n",
    "plt.ylabel('Profit')\n",
    "plt.xlabel('Year')\n",
    "plt.title('Pink Cab', fontsize=20)\n",
    "plt.legend()\n",
    "plt.show()"
   ]
  },
  {
   "cell_type": "markdown",
   "id": "952762a4",
   "metadata": {},
   "source": []
  },
  {
   "cell_type": "markdown",
   "id": "408836ad",
   "metadata": {},
   "source": [
    "![png](output_43_0.png)\n",
    "    \n",
    "\n"
   ]
  },
  {
   "cell_type": "code",
   "execution_count": null,
   "id": "5160d07f",
   "metadata": {
    "lines_to_next_cell": 0
   },
   "outputs": [],
   "source": [
    "cab_data[cab_data.Company=='Pink Cab'].groupby('Year').Price_Charged.mean()"
   ]
  },
  {
   "cell_type": "markdown",
   "id": "0393509d",
   "metadata": {
    "lines_to_next_cell": 0
   },
   "source": [
    "\n",
    "\n",
    "\n",
    "\n",
    "    Year\n",
    "    2016    315.330113\n",
    "    2017    315.907442\n",
    "    2018    301.642530\n",
    "    Name: Price_Charged, dtype: float64\n",
    "\n",
    "\n",
    "\n"
   ]
  },
  {
   "cell_type": "code",
   "execution_count": null,
   "id": "f12d5d70",
   "metadata": {
    "lines_to_next_cell": 0
   },
   "outputs": [],
   "source": [
    "cab_data[cab_data.Company=='Pink Cab'].groupby('Year').Cost_of_Trip.mean()"
   ]
  },
  {
   "cell_type": "markdown",
   "id": "32cbfb44",
   "metadata": {
    "lines_to_next_cell": 0
   },
   "source": [
    "\n",
    "\n",
    "\n",
    "\n",
    "    Year\n",
    "    2016    247.008294\n",
    "    2017    248.836603\n",
    "    2018    248.412841\n",
    "    Name: Cost_of_Trip, dtype: float64\n",
    "\n",
    "\n",
    "\n"
   ]
  },
  {
   "cell_type": "code",
   "execution_count": null,
   "id": "00101936",
   "metadata": {
    "lines_to_next_cell": 0
   },
   "outputs": [],
   "source": [
    "plot1 = cab_data[cab_data.Company=='Yellow Cab'].groupby('Year').Transaction_ID.count()\n",
    "plot3 = cab_data[cab_data.Company=='Yellow Cab'].groupby('Year').Price_Charged.mean()\n",
    "plot4 = cab_data[cab_data.Company=='Yellow Cab'].groupby('Year').Cost_of_Trip.mean()\n",
    "plt.figure(figsize=(9,4))\n",
    "ax = plt.subplot(111)\n",
    "ax.bar(plot1.index-0.2, plot4.values, width=0.4, color='blue', align='center',label='Cost of the Trip')\n",
    "ax.bar(plot1.index+0.2, plot3.values, width=0.4, color='red', align='center',label='Price Charged')\n",
    "plt.ylabel('Profit')\n",
    "plt.xlabel('Year')\n",
    "plt.title('Yellow Cab', fontsize=20)\n",
    "plt.legend()\n",
    "plt.show()"
   ]
  },
  {
   "cell_type": "markdown",
   "id": "bce9bcb8",
   "metadata": {},
   "source": []
  },
  {
   "cell_type": "markdown",
   "id": "7a6fb0f0",
   "metadata": {},
   "source": [
    "![png](output_46_0.png)\n",
    "    \n",
    "\n"
   ]
  },
  {
   "cell_type": "code",
   "execution_count": null,
   "id": "3a94f462",
   "metadata": {
    "lines_to_next_cell": 0
   },
   "outputs": [],
   "source": [
    "cab_data[cab_data.Company=='Yellow Cab'].groupby('Year').Price_Charged.mean()"
   ]
  },
  {
   "cell_type": "markdown",
   "id": "49c64277",
   "metadata": {
    "lines_to_next_cell": 0
   },
   "source": [
    "\n",
    "\n",
    "\n",
    "\n",
    "    Year\n",
    "    2016    467.918301\n",
    "    2017    466.639950\n",
    "    2018    440.875558\n",
    "    Name: Price_Charged, dtype: float64\n",
    "\n",
    "\n",
    "\n"
   ]
  },
  {
   "cell_type": "code",
   "execution_count": null,
   "id": "946c2b98",
   "metadata": {
    "lines_to_next_cell": 0
   },
   "outputs": [],
   "source": [
    "cab_data[cab_data.Company=='Yellow Cab'].groupby('Year').Cost_of_Trip.mean()"
   ]
  },
  {
   "cell_type": "markdown",
   "id": "de2be45b",
   "metadata": {
    "lines_to_next_cell": 0
   },
   "source": [
    "\n",
    "\n",
    "\n",
    "\n",
    "    Year\n",
    "    2016    298.570481\n",
    "    2017    297.822893\n",
    "    2018    297.459436\n",
    "    Name: Cost_of_Trip, dtype: float64\n",
    "\n",
    "\n",
    "\n"
   ]
  },
  {
   "cell_type": "code",
   "execution_count": null,
   "id": "5ea10527",
   "metadata": {
    "lines_to_next_cell": 2
   },
   "outputs": [],
   "source": [
    "#The Yellow cab has a higher Profit Margin (Price Charged - Cost of Trip) compared to Pink cab"
   ]
  },
  {
   "cell_type": "code",
   "execution_count": null,
   "id": "0d19256b",
   "metadata": {
    "lines_to_next_cell": 0
   },
   "outputs": [],
   "source": [
    "plt.figure(figsize=(20,10))\n",
    "sns.scatterplot(data=cab_data, x=PinkCab[\"KM_Travelled\"], y=PinkCab['Cost_of_Trip'], hue=\"City\")\n",
    "plt.ylabel('Pink Cab Cost of trip')\n",
    "plt.xlabel('Pink Cab KM Travelled')"
   ]
  },
  {
   "cell_type": "markdown",
   "id": "13f4db72",
   "metadata": {},
   "source": [
    "\n",
    "\n",
    "\n",
    "\n",
    "    Text(0.5, 0, 'Pink Cab KM Travelled')\n",
    "\n",
    "\n",
    "\n",
    "\n",
    "    \n",
    "![png](output_50_1.png)\n",
    "    \n",
    "\n"
   ]
  },
  {
   "cell_type": "code",
   "execution_count": null,
   "id": "e4619215",
   "metadata": {
    "lines_to_next_cell": 0
   },
   "outputs": [],
   "source": [
    "plt.figure(figsize=(20,10))\n",
    "sns.scatterplot(data=cab_data, x=YellowCab[\"KM_Travelled\"], y=YellowCab['Cost_of_Trip'], hue=\"City\")\n",
    "plt.ylabel('Yellow Cab Costof Trip')\n",
    "plt.xlabel('Yellow Cab KM Travelled')"
   ]
  },
  {
   "cell_type": "markdown",
   "id": "29fdcf13",
   "metadata": {},
   "source": [
    "\n",
    "\n",
    "\n",
    "\n",
    "    Text(0.5, 0, 'Yellow Cab KM Travelled')\n",
    "\n",
    "\n",
    "\n",
    "\n",
    "    \n",
    "![png](output_51_1.png)\n",
    "    \n",
    "\n"
   ]
  },
  {
   "cell_type": "code",
   "execution_count": null,
   "id": "c2ca4554",
   "metadata": {
    "lines_to_next_cell": 2
   },
   "outputs": [],
   "source": [
    "# From the graph we see that the cost of trip for both Pink and Yellow cab are almost the same."
   ]
  },
  {
   "cell_type": "code",
   "execution_count": null,
   "id": "4af806bf",
   "metadata": {
    "lines_to_next_cell": 0
   },
   "outputs": [],
   "source": [
    "plt.figure(figsize=(20,10))\n",
    "sns.scatterplot(data=cab_data, x=PinkCab[\"KM_Travelled\"], y=PinkCab['Price_Charged'], hue=\"City\")\n",
    "plt.ylabel('Pink Cab Price Charged')\n",
    "plt.xlabel('Pink Cab KM Travelled')"
   ]
  },
  {
   "cell_type": "markdown",
   "id": "99cc91f8",
   "metadata": {},
   "source": [
    "\n",
    "\n",
    "\n",
    "\n",
    "    Text(0.5, 0, 'Pink Cab KM Travelled')\n",
    "\n",
    "\n",
    "\n",
    "\n",
    "    \n",
    "![png](output_53_1.png)\n",
    "    \n",
    "\n"
   ]
  },
  {
   "cell_type": "code",
   "execution_count": null,
   "id": "edd25a9e",
   "metadata": {
    "lines_to_next_cell": 0
   },
   "outputs": [],
   "source": [
    "plt.figure(figsize=(20,10))\n",
    "sns.scatterplot(data=cab_data, x=YellowCab[\"KM_Travelled\"], y=YellowCab['Price_Charged'], hue=\"City\")\n",
    "plt.ylabel('Yellow Cab Price Charged')\n",
    "plt.xlabel('Yellow Cab KM Travelled')"
   ]
  },
  {
   "cell_type": "markdown",
   "id": "d4dd2eca",
   "metadata": {},
   "source": [
    "\n",
    "\n",
    "\n",
    "\n",
    "    Text(0.5, 0, 'Yellow Cab KM Travelled')\n",
    "\n",
    "\n",
    "\n",
    "\n",
    "    \n",
    "![png](output_54_1.png)\n",
    "    \n",
    "\n"
   ]
  },
  {
   "cell_type": "code",
   "execution_count": null,
   "id": "f2c07229",
   "metadata": {
    "lines_to_next_cell": 2
   },
   "outputs": [],
   "source": [
    "# From the graphs we see that for New York City the Yellow Cab price charged is more in comparison to the other cities \n",
    "#and for Pink cab all the cities have the same increase in prices with increase in distance \n",
    "# the outliers exist in both the graphs  which may be due to high end cars or weather."
   ]
  },
  {
   "cell_type": "code",
   "execution_count": null,
   "id": "47da41f4",
   "metadata": {
    "lines_to_next_cell": 0
   },
   "outputs": [],
   "source": [
    "#Creating Master Data\n",
    "left = cab_data.set_index(['Transaction_ID'])\n",
    "right = TransactionID_data.set_index(['Transaction_ID'])\n",
    "data = left.join(right)\n",
    "data"
   ]
  },
  {
   "cell_type": "markdown",
   "id": "0052edd6",
   "metadata": {},
   "source": [
    "\n"
   ]
  },
  {
   "cell_type": "markdown",
   "id": "b3ab0bac",
   "metadata": {},
   "source": [
    "<div>\n",
    "<style scoped>\n",
    "    .dataframe tbody tr th:only-of-type {\n",
    "        vertical-align: middle;\n",
    "    }\n",
    "\n",
    "    .dataframe tbody tr th {\n",
    "        vertical-align: top;\n",
    "    }\n",
    "\n",
    "    .dataframe thead th {\n",
    "        text-align: right;\n",
    "    }\n",
    "</style>\n",
    "<table border=\"1\" class=\"dataframe\">\n",
    "  <thead>\n",
    "    <tr style=\"text-align: right;\">\n",
    "      <th></th>\n",
    "      <th>Company</th>\n",
    "      <th>City</th>\n",
    "      <th>KM_Travelled</th>\n",
    "      <th>Price_Charged</th>\n",
    "      <th>Cost_of_Trip</th>\n",
    "      <th>Month</th>\n",
    "      <th>Year</th>\n",
    "      <th>Customer_ID</th>\n",
    "      <th>Payment_Mode</th>\n",
    "    </tr>\n",
    "    <tr>\n",
    "      <th>Transaction_ID</th>\n",
    "      <th></th>\n",
    "      <th></th>\n",
    "      <th></th>\n",
    "      <th></th>\n",
    "      <th></th>\n",
    "      <th></th>\n",
    "      <th></th>\n",
    "      <th></th>\n",
    "      <th></th>\n",
    "    </tr>\n",
    "  </thead>\n",
    "  <tbody>\n",
    "    <tr>\n",
    "      <th>10000011</th>\n",
    "      <td>Pink Cab</td>\n",
    "      <td>ATLANTA GA</td>\n",
    "      <td>30.45</td>\n",
    "      <td>370.95</td>\n",
    "      <td>313.6350</td>\n",
    "      <td>1</td>\n",
    "      <td>2016</td>\n",
    "      <td>29290</td>\n",
    "      <td>Card</td>\n",
    "    </tr>\n",
    "    <tr>\n",
    "      <th>10000012</th>\n",
    "      <td>Pink Cab</td>\n",
    "      <td>ATLANTA GA</td>\n",
    "      <td>28.62</td>\n",
    "      <td>358.52</td>\n",
    "      <td>334.8540</td>\n",
    "      <td>1</td>\n",
    "      <td>2016</td>\n",
    "      <td>27703</td>\n",
    "      <td>Card</td>\n",
    "    </tr>\n",
    "    <tr>\n",
    "      <th>10000013</th>\n",
    "      <td>Pink Cab</td>\n",
    "      <td>ATLANTA GA</td>\n",
    "      <td>9.04</td>\n",
    "      <td>125.20</td>\n",
    "      <td>97.6320</td>\n",
    "      <td>1</td>\n",
    "      <td>2016</td>\n",
    "      <td>28712</td>\n",
    "      <td>Cash</td>\n",
    "    </tr>\n",
    "    <tr>\n",
    "      <th>10000014</th>\n",
    "      <td>Pink Cab</td>\n",
    "      <td>ATLANTA GA</td>\n",
    "      <td>33.17</td>\n",
    "      <td>377.40</td>\n",
    "      <td>351.6020</td>\n",
    "      <td>1</td>\n",
    "      <td>2016</td>\n",
    "      <td>28020</td>\n",
    "      <td>Cash</td>\n",
    "    </tr>\n",
    "    <tr>\n",
    "      <th>10000015</th>\n",
    "      <td>Pink Cab</td>\n",
    "      <td>ATLANTA GA</td>\n",
    "      <td>8.73</td>\n",
    "      <td>114.62</td>\n",
    "      <td>97.7760</td>\n",
    "      <td>1</td>\n",
    "      <td>2016</td>\n",
    "      <td>27182</td>\n",
    "      <td>Card</td>\n",
    "    </tr>\n",
    "    <tr>\n",
    "      <th>...</th>\n",
    "      <td>...</td>\n",
    "      <td>...</td>\n",
    "      <td>...</td>\n",
    "      <td>...</td>\n",
    "      <td>...</td>\n",
    "      <td>...</td>\n",
    "      <td>...</td>\n",
    "      <td>...</td>\n",
    "      <td>...</td>\n",
    "    </tr>\n",
    "    <tr>\n",
    "      <th>10440101</th>\n",
    "      <td>Yellow Cab</td>\n",
    "      <td>WASHINGTON DC</td>\n",
    "      <td>4.80</td>\n",
    "      <td>69.24</td>\n",
    "      <td>63.3600</td>\n",
    "      <td>1</td>\n",
    "      <td>2018</td>\n",
    "      <td>52392</td>\n",
    "      <td>Cash</td>\n",
    "    </tr>\n",
    "    <tr>\n",
    "      <th>10440104</th>\n",
    "      <td>Yellow Cab</td>\n",
    "      <td>WASHINGTON DC</td>\n",
    "      <td>8.40</td>\n",
    "      <td>113.75</td>\n",
    "      <td>106.8480</td>\n",
    "      <td>1</td>\n",
    "      <td>2018</td>\n",
    "      <td>53286</td>\n",
    "      <td>Cash</td>\n",
    "    </tr>\n",
    "    <tr>\n",
    "      <th>10440105</th>\n",
    "      <td>Yellow Cab</td>\n",
    "      <td>WASHINGTON DC</td>\n",
    "      <td>27.75</td>\n",
    "      <td>437.07</td>\n",
    "      <td>349.6500</td>\n",
    "      <td>1</td>\n",
    "      <td>2018</td>\n",
    "      <td>52265</td>\n",
    "      <td>Cash</td>\n",
    "    </tr>\n",
    "    <tr>\n",
    "      <th>10440106</th>\n",
    "      <td>Yellow Cab</td>\n",
    "      <td>WASHINGTON DC</td>\n",
    "      <td>8.80</td>\n",
    "      <td>146.19</td>\n",
    "      <td>114.0480</td>\n",
    "      <td>1</td>\n",
    "      <td>2018</td>\n",
    "      <td>52175</td>\n",
    "      <td>Card</td>\n",
    "    </tr>\n",
    "    <tr>\n",
    "      <th>10440107</th>\n",
    "      <td>Yellow Cab</td>\n",
    "      <td>WASHINGTON DC</td>\n",
    "      <td>12.76</td>\n",
    "      <td>191.58</td>\n",
    "      <td>177.6192</td>\n",
    "      <td>1</td>\n",
    "      <td>2018</td>\n",
    "      <td>52917</td>\n",
    "      <td>Card</td>\n",
    "    </tr>\n",
    "  </tbody>\n",
    "</table>\n",
    "<p>359392 rows × 9 columns</p>\n",
    "</div>\n",
    "\n",
    "\n"
   ]
  },
  {
   "cell_type": "code",
   "execution_count": null,
   "id": "5702595e",
   "metadata": {
    "lines_to_next_cell": 0
   },
   "outputs": [],
   "source": [
    "left = data.set_index([data.index,'Customer_ID'])\n",
    "right = CustomerID_data.set_index(['Customer_ID'])\n",
    "data = left.join(right)\n",
    "data"
   ]
  },
  {
   "cell_type": "markdown",
   "id": "a274d788",
   "metadata": {},
   "source": [
    "\n"
   ]
  },
  {
   "cell_type": "markdown",
   "id": "ce2f8d3f",
   "metadata": {},
   "source": [
    "<div>\n",
    "<style scoped>\n",
    "    .dataframe tbody tr th:only-of-type {\n",
    "        vertical-align: middle;\n",
    "    }\n",
    "\n",
    "    .dataframe tbody tr th {\n",
    "        vertical-align: top;\n",
    "    }\n",
    "\n",
    "    .dataframe thead th {\n",
    "        text-align: right;\n",
    "    }\n",
    "</style>\n",
    "<table border=\"1\" class=\"dataframe\">\n",
    "  <thead>\n",
    "    <tr style=\"text-align: right;\">\n",
    "      <th></th>\n",
    "      <th></th>\n",
    "      <th>Company</th>\n",
    "      <th>City</th>\n",
    "      <th>KM_Travelled</th>\n",
    "      <th>Price_Charged</th>\n",
    "      <th>Cost_of_Trip</th>\n",
    "      <th>Month</th>\n",
    "      <th>Year</th>\n",
    "      <th>Payment_Mode</th>\n",
    "      <th>Gender</th>\n",
    "      <th>Age</th>\n",
    "      <th>Income_(USD/Month)</th>\n",
    "    </tr>\n",
    "    <tr>\n",
    "      <th>Transaction_ID</th>\n",
    "      <th>Customer_ID</th>\n",
    "      <th></th>\n",
    "      <th></th>\n",
    "      <th></th>\n",
    "      <th></th>\n",
    "      <th></th>\n",
    "      <th></th>\n",
    "      <th></th>\n",
    "      <th></th>\n",
    "      <th></th>\n",
    "      <th></th>\n",
    "      <th></th>\n",
    "    </tr>\n",
    "  </thead>\n",
    "  <tbody>\n",
    "    <tr>\n",
    "      <th>10000011</th>\n",
    "      <th>29290</th>\n",
    "      <td>Pink Cab</td>\n",
    "      <td>ATLANTA GA</td>\n",
    "      <td>30.45</td>\n",
    "      <td>370.95</td>\n",
    "      <td>313.6350</td>\n",
    "      <td>1</td>\n",
    "      <td>2016</td>\n",
    "      <td>Card</td>\n",
    "      <td>Male</td>\n",
    "      <td>28</td>\n",
    "      <td>10813</td>\n",
    "    </tr>\n",
    "    <tr>\n",
    "      <th>10000012</th>\n",
    "      <th>27703</th>\n",
    "      <td>Pink Cab</td>\n",
    "      <td>ATLANTA GA</td>\n",
    "      <td>28.62</td>\n",
    "      <td>358.52</td>\n",
    "      <td>334.8540</td>\n",
    "      <td>1</td>\n",
    "      <td>2016</td>\n",
    "      <td>Card</td>\n",
    "      <td>Male</td>\n",
    "      <td>27</td>\n",
    "      <td>9237</td>\n",
    "    </tr>\n",
    "    <tr>\n",
    "      <th>10000013</th>\n",
    "      <th>28712</th>\n",
    "      <td>Pink Cab</td>\n",
    "      <td>ATLANTA GA</td>\n",
    "      <td>9.04</td>\n",
    "      <td>125.20</td>\n",
    "      <td>97.6320</td>\n",
    "      <td>1</td>\n",
    "      <td>2016</td>\n",
    "      <td>Cash</td>\n",
    "      <td>Male</td>\n",
    "      <td>53</td>\n",
    "      <td>11242</td>\n",
    "    </tr>\n",
    "    <tr>\n",
    "      <th>10000014</th>\n",
    "      <th>28020</th>\n",
    "      <td>Pink Cab</td>\n",
    "      <td>ATLANTA GA</td>\n",
    "      <td>33.17</td>\n",
    "      <td>377.40</td>\n",
    "      <td>351.6020</td>\n",
    "      <td>1</td>\n",
    "      <td>2016</td>\n",
    "      <td>Cash</td>\n",
    "      <td>Male</td>\n",
    "      <td>23</td>\n",
    "      <td>23327</td>\n",
    "    </tr>\n",
    "    <tr>\n",
    "      <th>10000015</th>\n",
    "      <th>27182</th>\n",
    "      <td>Pink Cab</td>\n",
    "      <td>ATLANTA GA</td>\n",
    "      <td>8.73</td>\n",
    "      <td>114.62</td>\n",
    "      <td>97.7760</td>\n",
    "      <td>1</td>\n",
    "      <td>2016</td>\n",
    "      <td>Card</td>\n",
    "      <td>Male</td>\n",
    "      <td>33</td>\n",
    "      <td>8536</td>\n",
    "    </tr>\n",
    "    <tr>\n",
    "      <th>...</th>\n",
    "      <th>...</th>\n",
    "      <td>...</td>\n",
    "      <td>...</td>\n",
    "      <td>...</td>\n",
    "      <td>...</td>\n",
    "      <td>...</td>\n",
    "      <td>...</td>\n",
    "      <td>...</td>\n",
    "      <td>...</td>\n",
    "      <td>...</td>\n",
    "      <td>...</td>\n",
    "      <td>...</td>\n",
    "    </tr>\n",
    "    <tr>\n",
    "      <th>10440101</th>\n",
    "      <th>52392</th>\n",
    "      <td>Yellow Cab</td>\n",
    "      <td>WASHINGTON DC</td>\n",
    "      <td>4.80</td>\n",
    "      <td>69.24</td>\n",
    "      <td>63.3600</td>\n",
    "      <td>1</td>\n",
    "      <td>2018</td>\n",
    "      <td>Cash</td>\n",
    "      <td>Male</td>\n",
    "      <td>24</td>\n",
    "      <td>15651</td>\n",
    "    </tr>\n",
    "    <tr>\n",
    "      <th>10440104</th>\n",
    "      <th>53286</th>\n",
    "      <td>Yellow Cab</td>\n",
    "      <td>WASHINGTON DC</td>\n",
    "      <td>8.40</td>\n",
    "      <td>113.75</td>\n",
    "      <td>106.8480</td>\n",
    "      <td>1</td>\n",
    "      <td>2018</td>\n",
    "      <td>Cash</td>\n",
    "      <td>Male</td>\n",
    "      <td>32</td>\n",
    "      <td>6528</td>\n",
    "    </tr>\n",
    "    <tr>\n",
    "      <th>10440105</th>\n",
    "      <th>52265</th>\n",
    "      <td>Yellow Cab</td>\n",
    "      <td>WASHINGTON DC</td>\n",
    "      <td>27.75</td>\n",
    "      <td>437.07</td>\n",
    "      <td>349.6500</td>\n",
    "      <td>1</td>\n",
    "      <td>2018</td>\n",
    "      <td>Cash</td>\n",
    "      <td>Male</td>\n",
    "      <td>56</td>\n",
    "      <td>7966</td>\n",
    "    </tr>\n",
    "    <tr>\n",
    "      <th>10440106</th>\n",
    "      <th>52175</th>\n",
    "      <td>Yellow Cab</td>\n",
    "      <td>WASHINGTON DC</td>\n",
    "      <td>8.80</td>\n",
    "      <td>146.19</td>\n",
    "      <td>114.0480</td>\n",
    "      <td>1</td>\n",
    "      <td>2018</td>\n",
    "      <td>Card</td>\n",
    "      <td>Male</td>\n",
    "      <td>32</td>\n",
    "      <td>6423</td>\n",
    "    </tr>\n",
    "    <tr>\n",
    "      <th>10440107</th>\n",
    "      <th>52917</th>\n",
    "      <td>Yellow Cab</td>\n",
    "      <td>WASHINGTON DC</td>\n",
    "      <td>12.76</td>\n",
    "      <td>191.58</td>\n",
    "      <td>177.6192</td>\n",
    "      <td>1</td>\n",
    "      <td>2018</td>\n",
    "      <td>Card</td>\n",
    "      <td>Male</td>\n",
    "      <td>20</td>\n",
    "      <td>11284</td>\n",
    "    </tr>\n",
    "  </tbody>\n",
    "</table>\n",
    "<p>359392 rows × 11 columns</p>\n",
    "</div>\n",
    "\n",
    "\n"
   ]
  },
  {
   "cell_type": "code",
   "execution_count": null,
   "id": "37a43a68",
   "metadata": {
    "lines_to_next_cell": 0
   },
   "outputs": [],
   "source": [
    "left = data.set_index([data.index,'City'])\n",
    "right = City_data.set_index(['City'])\n",
    "data = left.join(right)\n",
    "data"
   ]
  },
  {
   "cell_type": "markdown",
   "id": "285a68f2",
   "metadata": {},
   "source": [
    "\n"
   ]
  },
  {
   "cell_type": "markdown",
   "id": "367bef69",
   "metadata": {},
   "source": [
    "<div>\n",
    "<style scoped>\n",
    "    .dataframe tbody tr th:only-of-type {\n",
    "        vertical-align: middle;\n",
    "    }\n",
    "\n",
    "    .dataframe tbody tr th {\n",
    "        vertical-align: top;\n",
    "    }\n",
    "\n",
    "    .dataframe thead th {\n",
    "        text-align: right;\n",
    "    }\n",
    "</style>\n",
    "<table border=\"1\" class=\"dataframe\">\n",
    "  <thead>\n",
    "    <tr style=\"text-align: right;\">\n",
    "      <th></th>\n",
    "      <th></th>\n",
    "      <th></th>\n",
    "      <th>Company</th>\n",
    "      <th>KM_Travelled</th>\n",
    "      <th>Price_Charged</th>\n",
    "      <th>Cost_of_Trip</th>\n",
    "      <th>Month</th>\n",
    "      <th>Year</th>\n",
    "      <th>Payment_Mode</th>\n",
    "      <th>Gender</th>\n",
    "      <th>Age</th>\n",
    "      <th>Income_(USD/Month)</th>\n",
    "      <th>Population</th>\n",
    "      <th>Users</th>\n",
    "    </tr>\n",
    "    <tr>\n",
    "      <th>Transaction_ID</th>\n",
    "      <th>Customer_ID</th>\n",
    "      <th>City</th>\n",
    "      <th></th>\n",
    "      <th></th>\n",
    "      <th></th>\n",
    "      <th></th>\n",
    "      <th></th>\n",
    "      <th></th>\n",
    "      <th></th>\n",
    "      <th></th>\n",
    "      <th></th>\n",
    "      <th></th>\n",
    "      <th></th>\n",
    "      <th></th>\n",
    "    </tr>\n",
    "  </thead>\n",
    "  <tbody>\n",
    "    <tr>\n",
    "      <th>10000011</th>\n",
    "      <th>29290</th>\n",
    "      <th>ATLANTA GA</th>\n",
    "      <td>Pink Cab</td>\n",
    "      <td>30.45</td>\n",
    "      <td>370.95</td>\n",
    "      <td>313.6350</td>\n",
    "      <td>1</td>\n",
    "      <td>2016</td>\n",
    "      <td>Card</td>\n",
    "      <td>Male</td>\n",
    "      <td>28</td>\n",
    "      <td>10813</td>\n",
    "      <td>814,885</td>\n",
    "      <td>24,701</td>\n",
    "    </tr>\n",
    "    <tr>\n",
    "      <th>10000012</th>\n",
    "      <th>27703</th>\n",
    "      <th>ATLANTA GA</th>\n",
    "      <td>Pink Cab</td>\n",
    "      <td>28.62</td>\n",
    "      <td>358.52</td>\n",
    "      <td>334.8540</td>\n",
    "      <td>1</td>\n",
    "      <td>2016</td>\n",
    "      <td>Card</td>\n",
    "      <td>Male</td>\n",
    "      <td>27</td>\n",
    "      <td>9237</td>\n",
    "      <td>814,885</td>\n",
    "      <td>24,701</td>\n",
    "    </tr>\n",
    "    <tr>\n",
    "      <th>10000013</th>\n",
    "      <th>28712</th>\n",
    "      <th>ATLANTA GA</th>\n",
    "      <td>Pink Cab</td>\n",
    "      <td>9.04</td>\n",
    "      <td>125.20</td>\n",
    "      <td>97.6320</td>\n",
    "      <td>1</td>\n",
    "      <td>2016</td>\n",
    "      <td>Cash</td>\n",
    "      <td>Male</td>\n",
    "      <td>53</td>\n",
    "      <td>11242</td>\n",
    "      <td>814,885</td>\n",
    "      <td>24,701</td>\n",
    "    </tr>\n",
    "    <tr>\n",
    "      <th>10000014</th>\n",
    "      <th>28020</th>\n",
    "      <th>ATLANTA GA</th>\n",
    "      <td>Pink Cab</td>\n",
    "      <td>33.17</td>\n",
    "      <td>377.40</td>\n",
    "      <td>351.6020</td>\n",
    "      <td>1</td>\n",
    "      <td>2016</td>\n",
    "      <td>Cash</td>\n",
    "      <td>Male</td>\n",
    "      <td>23</td>\n",
    "      <td>23327</td>\n",
    "      <td>814,885</td>\n",
    "      <td>24,701</td>\n",
    "    </tr>\n",
    "    <tr>\n",
    "      <th>10000015</th>\n",
    "      <th>27182</th>\n",
    "      <th>ATLANTA GA</th>\n",
    "      <td>Pink Cab</td>\n",
    "      <td>8.73</td>\n",
    "      <td>114.62</td>\n",
    "      <td>97.7760</td>\n",
    "      <td>1</td>\n",
    "      <td>2016</td>\n",
    "      <td>Card</td>\n",
    "      <td>Male</td>\n",
    "      <td>33</td>\n",
    "      <td>8536</td>\n",
    "      <td>814,885</td>\n",
    "      <td>24,701</td>\n",
    "    </tr>\n",
    "    <tr>\n",
    "      <th>...</th>\n",
    "      <th>...</th>\n",
    "      <th>...</th>\n",
    "      <td>...</td>\n",
    "      <td>...</td>\n",
    "      <td>...</td>\n",
    "      <td>...</td>\n",
    "      <td>...</td>\n",
    "      <td>...</td>\n",
    "      <td>...</td>\n",
    "      <td>...</td>\n",
    "      <td>...</td>\n",
    "      <td>...</td>\n",
    "      <td>...</td>\n",
    "      <td>...</td>\n",
    "    </tr>\n",
    "    <tr>\n",
    "      <th>10440101</th>\n",
    "      <th>52392</th>\n",
    "      <th>WASHINGTON DC</th>\n",
    "      <td>Yellow Cab</td>\n",
    "      <td>4.80</td>\n",
    "      <td>69.24</td>\n",
    "      <td>63.3600</td>\n",
    "      <td>1</td>\n",
    "      <td>2018</td>\n",
    "      <td>Cash</td>\n",
    "      <td>Male</td>\n",
    "      <td>24</td>\n",
    "      <td>15651</td>\n",
    "      <td>418,859</td>\n",
    "      <td>127,001</td>\n",
    "    </tr>\n",
    "    <tr>\n",
    "      <th>10440104</th>\n",
    "      <th>53286</th>\n",
    "      <th>WASHINGTON DC</th>\n",
    "      <td>Yellow Cab</td>\n",
    "      <td>8.40</td>\n",
    "      <td>113.75</td>\n",
    "      <td>106.8480</td>\n",
    "      <td>1</td>\n",
    "      <td>2018</td>\n",
    "      <td>Cash</td>\n",
    "      <td>Male</td>\n",
    "      <td>32</td>\n",
    "      <td>6528</td>\n",
    "      <td>418,859</td>\n",
    "      <td>127,001</td>\n",
    "    </tr>\n",
    "    <tr>\n",
    "      <th>10440105</th>\n",
    "      <th>52265</th>\n",
    "      <th>WASHINGTON DC</th>\n",
    "      <td>Yellow Cab</td>\n",
    "      <td>27.75</td>\n",
    "      <td>437.07</td>\n",
    "      <td>349.6500</td>\n",
    "      <td>1</td>\n",
    "      <td>2018</td>\n",
    "      <td>Cash</td>\n",
    "      <td>Male</td>\n",
    "      <td>56</td>\n",
    "      <td>7966</td>\n",
    "      <td>418,859</td>\n",
    "      <td>127,001</td>\n",
    "    </tr>\n",
    "    <tr>\n",
    "      <th>10440106</th>\n",
    "      <th>52175</th>\n",
    "      <th>WASHINGTON DC</th>\n",
    "      <td>Yellow Cab</td>\n",
    "      <td>8.80</td>\n",
    "      <td>146.19</td>\n",
    "      <td>114.0480</td>\n",
    "      <td>1</td>\n",
    "      <td>2018</td>\n",
    "      <td>Card</td>\n",
    "      <td>Male</td>\n",
    "      <td>32</td>\n",
    "      <td>6423</td>\n",
    "      <td>418,859</td>\n",
    "      <td>127,001</td>\n",
    "    </tr>\n",
    "    <tr>\n",
    "      <th>10440107</th>\n",
    "      <th>52917</th>\n",
    "      <th>WASHINGTON DC</th>\n",
    "      <td>Yellow Cab</td>\n",
    "      <td>12.76</td>\n",
    "      <td>191.58</td>\n",
    "      <td>177.6192</td>\n",
    "      <td>1</td>\n",
    "      <td>2018</td>\n",
    "      <td>Card</td>\n",
    "      <td>Male</td>\n",
    "      <td>20</td>\n",
    "      <td>11284</td>\n",
    "      <td>418,859</td>\n",
    "      <td>127,001</td>\n",
    "    </tr>\n",
    "  </tbody>\n",
    "</table>\n",
    "<p>359392 rows × 12 columns</p>\n",
    "</div>\n",
    "\n",
    "\n"
   ]
  },
  {
   "cell_type": "code",
   "execution_count": null,
   "id": "ae700be9",
   "metadata": {},
   "outputs": [],
   "source": [
    "data.info()"
   ]
  },
  {
   "cell_type": "markdown",
   "id": "7dc4b631",
   "metadata": {},
   "source": [
    "    <class 'pandas.core.frame.DataFrame'>\n",
    "    MultiIndex: 359392 entries, (10000011, 29290, 'ATLANTA GA') to (10440107, 52917, 'WASHINGTON DC')\n",
    "    Data columns (total 12 columns):\n",
    "     #   Column              Non-Null Count   Dtype  \n",
    "    ---  ------              --------------   -----  \n",
    "     0   Company             359392 non-null  object \n",
    "     1   KM_Travelled        359392 non-null  float64\n",
    "     2   Price_Charged       359392 non-null  float64\n",
    "     3   Cost_of_Trip        359392 non-null  float64\n",
    "     4   Month               359392 non-null  int64  \n",
    "     5   Year                359392 non-null  int64  \n",
    "     6   Payment_Mode        359392 non-null  object \n",
    "     7   Gender              359392 non-null  object \n",
    "     8   Age                 359392 non-null  int64  \n",
    "     9   Income_(USD/Month)  359392 non-null  int64  \n",
    "     10  Population          359392 non-null  object \n",
    "     11  Users               359392 non-null  object \n",
    "    dtypes: float64(3), int64(4), object(5)\n",
    "    memory usage: 50.3+ MB\n",
    "    \n"
   ]
  },
  {
   "cell_type": "code",
   "execution_count": null,
   "id": "e1f31502",
   "metadata": {
    "lines_to_next_cell": 2
   },
   "outputs": [],
   "source": [
    "data = data.reset_index()"
   ]
  },
  {
   "cell_type": "code",
   "execution_count": null,
   "id": "ecff4883",
   "metadata": {
    "lines_to_next_cell": 2
   },
   "outputs": [],
   "source": [
    "data = data.rename(columns={'Income_(USD/Month)':'Income'})"
   ]
  },
  {
   "cell_type": "code",
   "execution_count": null,
   "id": "2460aca5",
   "metadata": {
    "lines_to_next_cell": 0
   },
   "outputs": [],
   "source": [
    "city_users = data.groupby('City').Users.count()\n",
    "city_users"
   ]
  },
  {
   "cell_type": "markdown",
   "id": "b2a26620",
   "metadata": {
    "lines_to_next_cell": 0
   },
   "source": [
    "\n",
    "\n",
    "\n",
    "\n",
    "    City\n",
    "    ATLANTA GA         7557\n",
    "    AUSTIN TX          4896\n",
    "    BOSTON MA         29692\n",
    "    CHICAGO IL        56625\n",
    "    DALLAS TX          7017\n",
    "    DENVER CO          3825\n",
    "    LOS ANGELES CA    48033\n",
    "    MIAMI FL           6454\n",
    "    NASHVILLE TN       3010\n",
    "    NEW YORK NY       99885\n",
    "    ORANGE COUNTY      3982\n",
    "    PHOENIX AZ         2064\n",
    "    PITTSBURGH PA      1313\n",
    "    SACRAMENTO CA      2367\n",
    "    SAN DIEGO CA      20488\n",
    "    SEATTLE WA         7997\n",
    "    SILICON VALLEY     8519\n",
    "    TUCSON AZ          1931\n",
    "    WASHINGTON DC     43737\n",
    "    Name: Users, dtype: int64\n",
    "\n",
    "\n",
    "\n"
   ]
  },
  {
   "cell_type": "code",
   "execution_count": null,
   "id": "c8dfa05d",
   "metadata": {
    "lines_to_next_cell": 0
   },
   "outputs": [],
   "source": [
    "city_y = data[data.Company=='Yellow Cab'].groupby('City').Transaction_ID.count()\n",
    "city_y"
   ]
  },
  {
   "cell_type": "markdown",
   "id": "2a77a8b6",
   "metadata": {
    "lines_to_next_cell": 0
   },
   "source": [
    "\n",
    "\n",
    "\n",
    "\n",
    "    City\n",
    "    ATLANTA GA         5795\n",
    "    AUSTIN TX          3028\n",
    "    BOSTON MA         24506\n",
    "    CHICAGO IL        47264\n",
    "    DALLAS TX          5637\n",
    "    DENVER CO          2431\n",
    "    LOS ANGELES CA    28168\n",
    "    MIAMI FL           4452\n",
    "    NASHVILLE TN       1169\n",
    "    NEW YORK NY       85918\n",
    "    ORANGE COUNTY      2469\n",
    "    PHOENIX AZ         1200\n",
    "    PITTSBURGH PA       631\n",
    "    SACRAMENTO CA      1033\n",
    "    SAN DIEGO CA       9816\n",
    "    SEATTLE WA         5265\n",
    "    SILICON VALLEY     4722\n",
    "    TUCSON AZ          1132\n",
    "    WASHINGTON DC     40045\n",
    "    Name: Transaction_ID, dtype: int64\n",
    "\n",
    "\n",
    "\n"
   ]
  },
  {
   "cell_type": "code",
   "execution_count": null,
   "id": "ff3d92df",
   "metadata": {
    "lines_to_next_cell": 0
   },
   "outputs": [],
   "source": [
    "labs = city_users.index\n",
    "vals = city_users.values\n",
    "figp, axp = plt.subplots(figsize=(20,10))\n",
    "axp.pie(vals , labels=labs, autopct='%1.1f%%',shadow=True, startangle=90,)\n",
    "axp.axis('equal')\n",
    "\n",
    "plt.title('Users per City')\n",
    "plt.show()"
   ]
  },
  {
   "cell_type": "markdown",
   "id": "42fa785f",
   "metadata": {},
   "source": []
  },
  {
   "cell_type": "markdown",
   "id": "5a6c1b2a",
   "metadata": {},
   "source": [
    "![png](output_64_0.png)\n",
    "    \n",
    "\n"
   ]
  },
  {
   "cell_type": "code",
   "execution_count": null,
   "id": "1f212ed6",
   "metadata": {
    "lines_to_next_cell": 2
   },
   "outputs": [],
   "source": [
    "# New York City has the highest Cab users with 28% followed by Chicago with 16% and Los Angeles with 13%"
   ]
  },
  {
   "cell_type": "code",
   "execution_count": null,
   "id": "12f542dc",
   "metadata": {
    "lines_to_next_cell": 0
   },
   "outputs": [],
   "source": [
    "labs = city_y.index\n",
    "vals = city_y.values\n",
    "figp, axp = plt.subplots(figsize=(20,10))\n",
    "axp.pie(vals , labels=labs, autopct='%1.1f%%',shadow=True, startangle=90,)\n",
    "axp.axis('equal')\n",
    "\n",
    "plt.title('Transaction per City for Yellow Cab')\n",
    "plt.show()"
   ]
  },
  {
   "cell_type": "markdown",
   "id": "0319dcfa",
   "metadata": {},
   "source": []
  },
  {
   "cell_type": "markdown",
   "id": "453ae090",
   "metadata": {},
   "source": [
    "![png](output_66_0.png)\n",
    "    \n",
    "\n"
   ]
  },
  {
   "cell_type": "code",
   "execution_count": null,
   "id": "0543c3dc",
   "metadata": {
    "lines_to_next_cell": 0
   },
   "outputs": [],
   "source": [
    "city_p = data[data.Company=='Pink Cab'].groupby('City').Transaction_ID.count()\n",
    "city_p"
   ]
  },
  {
   "cell_type": "markdown",
   "id": "f12ac405",
   "metadata": {
    "lines_to_next_cell": 0
   },
   "source": [
    "\n",
    "\n",
    "\n",
    "\n",
    "    City\n",
    "    ATLANTA GA         1762\n",
    "    AUSTIN TX          1868\n",
    "    BOSTON MA          5186\n",
    "    CHICAGO IL         9361\n",
    "    DALLAS TX          1380\n",
    "    DENVER CO          1394\n",
    "    LOS ANGELES CA    19865\n",
    "    MIAMI FL           2002\n",
    "    NASHVILLE TN       1841\n",
    "    NEW YORK NY       13967\n",
    "    ORANGE COUNTY      1513\n",
    "    PHOENIX AZ          864\n",
    "    PITTSBURGH PA       682\n",
    "    SACRAMENTO CA      1334\n",
    "    SAN DIEGO CA      10672\n",
    "    SEATTLE WA         2732\n",
    "    SILICON VALLEY     3797\n",
    "    TUCSON AZ           799\n",
    "    WASHINGTON DC      3692\n",
    "    Name: Transaction_ID, dtype: int64\n",
    "\n",
    "\n",
    "\n"
   ]
  },
  {
   "cell_type": "code",
   "execution_count": null,
   "id": "8d064eeb",
   "metadata": {
    "lines_to_next_cell": 0
   },
   "outputs": [],
   "source": [
    "labs = city_p.index\n",
    "vals = city_p.values\n",
    "figp, axp = plt.subplots(figsize=(20,10))\n",
    "axp.pie(vals , labels=labs, autopct='%1.1f%%',shadow=True, startangle=90,)\n",
    "axp.axis('equal')\n",
    "\n",
    "plt.title('Transaction per City for Pink Cab')\n",
    "plt.show()"
   ]
  },
  {
   "cell_type": "markdown",
   "id": "671227e5",
   "metadata": {},
   "source": []
  },
  {
   "cell_type": "markdown",
   "id": "62ed02e0",
   "metadata": {},
   "source": [
    "![png](output_68_0.png)\n",
    "    \n",
    "\n"
   ]
  },
  {
   "cell_type": "code",
   "execution_count": null,
   "id": "44b6b375",
   "metadata": {
    "lines_to_next_cell": 2
   },
   "outputs": [],
   "source": [
    "#Transaction for Yellow Cab is highest in New York City which has the highest Cab Users of 28%\n",
    "#Transaction for Pink Cab is highest in Los Angeles City"
   ]
  },
  {
   "cell_type": "code",
   "execution_count": null,
   "id": "b8bb4f9d",
   "metadata": {
    "lines_to_next_cell": 2
   },
   "outputs": [],
   "source": [
    "gender_y=data[data.Company=='Yellow Cab'].groupby('Gender').Price_Charged.mean()"
   ]
  },
  {
   "cell_type": "code",
   "execution_count": null,
   "id": "0b14c894",
   "metadata": {
    "lines_to_next_cell": 0
   },
   "outputs": [],
   "source": [
    "labs = gender_y.index\n",
    "vals = gender_y.values\n",
    "figp, axp = plt.subplots(figsize=(20,10))\n",
    "axp.pie(vals , labels=labs, autopct='%1.1f%%',shadow=True, startangle=90,)\n",
    "axp.axis('equal')\n",
    "\n",
    "plt.title('Price Charged per Gender for Yellow Cab')\n",
    "plt.show()"
   ]
  },
  {
   "cell_type": "markdown",
   "id": "61d579a4",
   "metadata": {},
   "source": []
  },
  {
   "cell_type": "markdown",
   "id": "0823583e",
   "metadata": {},
   "source": [
    "![png](output_71_0.png)\n",
    "    \n",
    "\n"
   ]
  },
  {
   "cell_type": "code",
   "execution_count": null,
   "id": "f36b1adb",
   "metadata": {
    "lines_to_next_cell": 2
   },
   "outputs": [],
   "source": [
    "gender_p=data[data.Company=='Pink Cab'].groupby('Gender').Price_Charged.mean()"
   ]
  },
  {
   "cell_type": "code",
   "execution_count": null,
   "id": "eb9bd896",
   "metadata": {
    "lines_to_next_cell": 0
   },
   "outputs": [],
   "source": [
    "labs = gender_p.index\n",
    "vals = gender_p.values\n",
    "figp, axp = plt.subplots(figsize=(20,10))\n",
    "axp.pie(vals , labels=labs, autopct='%1.1f%%',shadow=True, startangle=90,)\n",
    "axp.axis('equal')\n",
    "\n",
    "plt.title('Price Charged per Gender for Pink Cab')\n",
    "plt.show()"
   ]
  },
  {
   "cell_type": "markdown",
   "id": "a685f625",
   "metadata": {},
   "source": []
  },
  {
   "cell_type": "markdown",
   "id": "08147b2d",
   "metadata": {},
   "source": [
    "![png](output_73_0.png)\n",
    "    \n",
    "\n"
   ]
  },
  {
   "cell_type": "code",
   "execution_count": null,
   "id": "31c7b3ca",
   "metadata": {
    "lines_to_next_cell": 2
   },
   "outputs": [],
   "source": [
    "#Yellow Cab charge less from Female Customers whereas Pink Cab charges same for both Male and Female Customers."
   ]
  },
  {
   "cell_type": "code",
   "execution_count": null,
   "id": "3064704e",
   "metadata": {
    "lines_to_next_cell": 0
   },
   "outputs": [],
   "source": [
    "gender_cab=data.groupby(['Company','Gender']).Customer_ID.nunique()\n",
    "gender_cab"
   ]
  },
  {
   "cell_type": "markdown",
   "id": "1d9738d6",
   "metadata": {
    "lines_to_next_cell": 0
   },
   "source": [
    "\n",
    "\n",
    "\n",
    "\n",
    "    Company     Gender\n",
    "    Pink Cab    Female    14819\n",
    "                Male      17511\n",
    "    Yellow Cab  Female    18394\n",
    "                Male      21502\n",
    "    Name: Customer_ID, dtype: int64\n",
    "\n",
    "\n",
    "\n"
   ]
  },
  {
   "cell_type": "code",
   "execution_count": null,
   "id": "bf654bb9",
   "metadata": {
    "lines_to_next_cell": 0
   },
   "outputs": [],
   "source": [
    "labs = gender_cab.index\n",
    "vals = gender_cab.values\n",
    "figp, axp = plt.subplots(figsize=(20,10))\n",
    "axp.pie(vals , labels=labs, autopct='%1.1f%%',shadow=True, startangle=90,)\n",
    "axp.axis('equal')\n",
    "\n",
    "plt.title('Customer share per gender per cab')\n",
    "plt.show()"
   ]
  },
  {
   "cell_type": "markdown",
   "id": "e7e747a0",
   "metadata": {},
   "source": []
  },
  {
   "cell_type": "markdown",
   "id": "21d5d721",
   "metadata": {},
   "source": [
    "![png](output_76_0.png)\n",
    "    \n",
    "\n"
   ]
  },
  {
   "cell_type": "code",
   "execution_count": null,
   "id": "6f1315f5",
   "metadata": {
    "lines_to_next_cell": 2
   },
   "outputs": [],
   "source": [
    "# Female Customers in Yellow Cab is higher compared to Male customers"
   ]
  },
  {
   "cell_type": "code",
   "execution_count": null,
   "id": "5655efbf",
   "metadata": {
    "lines_to_next_cell": 2
   },
   "outputs": [],
   "source": [
    "data['Margins'] = (data['Price_Charged']-data['Cost_of_Trip'])"
   ]
  },
  {
   "cell_type": "code",
   "execution_count": null,
   "id": "520f8263",
   "metadata": {
    "lines_to_next_cell": 0
   },
   "outputs": [],
   "source": [
    "data.head()"
   ]
  },
  {
   "cell_type": "markdown",
   "id": "e8adf3e2",
   "metadata": {},
   "source": [
    "\n"
   ]
  },
  {
   "cell_type": "markdown",
   "id": "badbbfe4",
   "metadata": {},
   "source": [
    "<div>\n",
    "<style scoped>\n",
    "    .dataframe tbody tr th:only-of-type {\n",
    "        vertical-align: middle;\n",
    "    }\n",
    "\n",
    "    .dataframe tbody tr th {\n",
    "        vertical-align: top;\n",
    "    }\n",
    "\n",
    "    .dataframe thead th {\n",
    "        text-align: right;\n",
    "    }\n",
    "</style>\n",
    "<table border=\"1\" class=\"dataframe\">\n",
    "  <thead>\n",
    "    <tr style=\"text-align: right;\">\n",
    "      <th></th>\n",
    "      <th>Transaction_ID</th>\n",
    "      <th>Customer_ID</th>\n",
    "      <th>City</th>\n",
    "      <th>Company</th>\n",
    "      <th>KM_Travelled</th>\n",
    "      <th>Price_Charged</th>\n",
    "      <th>Cost_of_Trip</th>\n",
    "      <th>Month</th>\n",
    "      <th>Year</th>\n",
    "      <th>Payment_Mode</th>\n",
    "      <th>Gender</th>\n",
    "      <th>Age</th>\n",
    "      <th>Income</th>\n",
    "      <th>Population</th>\n",
    "      <th>Users</th>\n",
    "      <th>Margins</th>\n",
    "    </tr>\n",
    "  </thead>\n",
    "  <tbody>\n",
    "    <tr>\n",
    "      <th>0</th>\n",
    "      <td>10000011</td>\n",
    "      <td>29290</td>\n",
    "      <td>ATLANTA GA</td>\n",
    "      <td>Pink Cab</td>\n",
    "      <td>30.45</td>\n",
    "      <td>370.95</td>\n",
    "      <td>313.635</td>\n",
    "      <td>1</td>\n",
    "      <td>2016</td>\n",
    "      <td>Card</td>\n",
    "      <td>Male</td>\n",
    "      <td>28</td>\n",
    "      <td>10813</td>\n",
    "      <td>814,885</td>\n",
    "      <td>24,701</td>\n",
    "      <td>57.315</td>\n",
    "    </tr>\n",
    "    <tr>\n",
    "      <th>1</th>\n",
    "      <td>10000012</td>\n",
    "      <td>27703</td>\n",
    "      <td>ATLANTA GA</td>\n",
    "      <td>Pink Cab</td>\n",
    "      <td>28.62</td>\n",
    "      <td>358.52</td>\n",
    "      <td>334.854</td>\n",
    "      <td>1</td>\n",
    "      <td>2016</td>\n",
    "      <td>Card</td>\n",
    "      <td>Male</td>\n",
    "      <td>27</td>\n",
    "      <td>9237</td>\n",
    "      <td>814,885</td>\n",
    "      <td>24,701</td>\n",
    "      <td>23.666</td>\n",
    "    </tr>\n",
    "    <tr>\n",
    "      <th>2</th>\n",
    "      <td>10000013</td>\n",
    "      <td>28712</td>\n",
    "      <td>ATLANTA GA</td>\n",
    "      <td>Pink Cab</td>\n",
    "      <td>9.04</td>\n",
    "      <td>125.20</td>\n",
    "      <td>97.632</td>\n",
    "      <td>1</td>\n",
    "      <td>2016</td>\n",
    "      <td>Cash</td>\n",
    "      <td>Male</td>\n",
    "      <td>53</td>\n",
    "      <td>11242</td>\n",
    "      <td>814,885</td>\n",
    "      <td>24,701</td>\n",
    "      <td>27.568</td>\n",
    "    </tr>\n",
    "    <tr>\n",
    "      <th>3</th>\n",
    "      <td>10000014</td>\n",
    "      <td>28020</td>\n",
    "      <td>ATLANTA GA</td>\n",
    "      <td>Pink Cab</td>\n",
    "      <td>33.17</td>\n",
    "      <td>377.40</td>\n",
    "      <td>351.602</td>\n",
    "      <td>1</td>\n",
    "      <td>2016</td>\n",
    "      <td>Cash</td>\n",
    "      <td>Male</td>\n",
    "      <td>23</td>\n",
    "      <td>23327</td>\n",
    "      <td>814,885</td>\n",
    "      <td>24,701</td>\n",
    "      <td>25.798</td>\n",
    "    </tr>\n",
    "    <tr>\n",
    "      <th>4</th>\n",
    "      <td>10000015</td>\n",
    "      <td>27182</td>\n",
    "      <td>ATLANTA GA</td>\n",
    "      <td>Pink Cab</td>\n",
    "      <td>8.73</td>\n",
    "      <td>114.62</td>\n",
    "      <td>97.776</td>\n",
    "      <td>1</td>\n",
    "      <td>2016</td>\n",
    "      <td>Card</td>\n",
    "      <td>Male</td>\n",
    "      <td>33</td>\n",
    "      <td>8536</td>\n",
    "      <td>814,885</td>\n",
    "      <td>24,701</td>\n",
    "      <td>16.844</td>\n",
    "    </tr>\n",
    "  </tbody>\n",
    "</table>\n",
    "</div>\n",
    "\n",
    "\n"
   ]
  },
  {
   "cell_type": "code",
   "execution_count": null,
   "id": "35efeaa7",
   "metadata": {
    "lines_to_next_cell": 2
   },
   "outputs": [],
   "source": [
    "data['Margins'] = (data['Price_Charged']-data['Cost_of_Trip'])"
   ]
  },
  {
   "cell_type": "code",
   "execution_count": null,
   "id": "e2ae6523",
   "metadata": {
    "lines_to_next_cell": 0
   },
   "outputs": [],
   "source": [
    "data.head()"
   ]
  },
  {
   "cell_type": "markdown",
   "id": "01000460",
   "metadata": {},
   "source": [
    "\n"
   ]
  },
  {
   "cell_type": "markdown",
   "id": "7a79ee3a",
   "metadata": {},
   "source": [
    "<div>\n",
    "<style scoped>\n",
    "    .dataframe tbody tr th:only-of-type {\n",
    "        vertical-align: middle;\n",
    "    }\n",
    "\n",
    "    .dataframe tbody tr th {\n",
    "        vertical-align: top;\n",
    "    }\n",
    "\n",
    "    .dataframe thead th {\n",
    "        text-align: right;\n",
    "    }\n",
    "</style>\n",
    "<table border=\"1\" class=\"dataframe\">\n",
    "  <thead>\n",
    "    <tr style=\"text-align: right;\">\n",
    "      <th></th>\n",
    "      <th>Transaction_ID</th>\n",
    "      <th>Customer_ID</th>\n",
    "      <th>City</th>\n",
    "      <th>Company</th>\n",
    "      <th>KM_Travelled</th>\n",
    "      <th>Price_Charged</th>\n",
    "      <th>Cost_of_Trip</th>\n",
    "      <th>Month</th>\n",
    "      <th>Year</th>\n",
    "      <th>Payment_Mode</th>\n",
    "      <th>Gender</th>\n",
    "      <th>Age</th>\n",
    "      <th>Income</th>\n",
    "      <th>Population</th>\n",
    "      <th>Users</th>\n",
    "      <th>Margins</th>\n",
    "    </tr>\n",
    "  </thead>\n",
    "  <tbody>\n",
    "    <tr>\n",
    "      <th>0</th>\n",
    "      <td>10000011</td>\n",
    "      <td>29290</td>\n",
    "      <td>ATLANTA GA</td>\n",
    "      <td>Pink Cab</td>\n",
    "      <td>30.45</td>\n",
    "      <td>370.95</td>\n",
    "      <td>313.635</td>\n",
    "      <td>1</td>\n",
    "      <td>2016</td>\n",
    "      <td>Card</td>\n",
    "      <td>Male</td>\n",
    "      <td>28</td>\n",
    "      <td>10813</td>\n",
    "      <td>814,885</td>\n",
    "      <td>24,701</td>\n",
    "      <td>57.315</td>\n",
    "    </tr>\n",
    "    <tr>\n",
    "      <th>1</th>\n",
    "      <td>10000012</td>\n",
    "      <td>27703</td>\n",
    "      <td>ATLANTA GA</td>\n",
    "      <td>Pink Cab</td>\n",
    "      <td>28.62</td>\n",
    "      <td>358.52</td>\n",
    "      <td>334.854</td>\n",
    "      <td>1</td>\n",
    "      <td>2016</td>\n",
    "      <td>Card</td>\n",
    "      <td>Male</td>\n",
    "      <td>27</td>\n",
    "      <td>9237</td>\n",
    "      <td>814,885</td>\n",
    "      <td>24,701</td>\n",
    "      <td>23.666</td>\n",
    "    </tr>\n",
    "    <tr>\n",
    "      <th>2</th>\n",
    "      <td>10000013</td>\n",
    "      <td>28712</td>\n",
    "      <td>ATLANTA GA</td>\n",
    "      <td>Pink Cab</td>\n",
    "      <td>9.04</td>\n",
    "      <td>125.20</td>\n",
    "      <td>97.632</td>\n",
    "      <td>1</td>\n",
    "      <td>2016</td>\n",
    "      <td>Cash</td>\n",
    "      <td>Male</td>\n",
    "      <td>53</td>\n",
    "      <td>11242</td>\n",
    "      <td>814,885</td>\n",
    "      <td>24,701</td>\n",
    "      <td>27.568</td>\n",
    "    </tr>\n",
    "    <tr>\n",
    "      <th>3</th>\n",
    "      <td>10000014</td>\n",
    "      <td>28020</td>\n",
    "      <td>ATLANTA GA</td>\n",
    "      <td>Pink Cab</td>\n",
    "      <td>33.17</td>\n",
    "      <td>377.40</td>\n",
    "      <td>351.602</td>\n",
    "      <td>1</td>\n",
    "      <td>2016</td>\n",
    "      <td>Cash</td>\n",
    "      <td>Male</td>\n",
    "      <td>23</td>\n",
    "      <td>23327</td>\n",
    "      <td>814,885</td>\n",
    "      <td>24,701</td>\n",
    "      <td>25.798</td>\n",
    "    </tr>\n",
    "    <tr>\n",
    "      <th>4</th>\n",
    "      <td>10000015</td>\n",
    "      <td>27182</td>\n",
    "      <td>ATLANTA GA</td>\n",
    "      <td>Pink Cab</td>\n",
    "      <td>8.73</td>\n",
    "      <td>114.62</td>\n",
    "      <td>97.776</td>\n",
    "      <td>1</td>\n",
    "      <td>2016</td>\n",
    "      <td>Card</td>\n",
    "      <td>Male</td>\n",
    "      <td>33</td>\n",
    "      <td>8536</td>\n",
    "      <td>814,885</td>\n",
    "      <td>24,701</td>\n",
    "      <td>16.844</td>\n",
    "    </tr>\n",
    "  </tbody>\n",
    "</table>\n",
    "</div>\n",
    "\n",
    "\n"
   ]
  },
  {
   "cell_type": "code",
   "execution_count": null,
   "id": "93147f5b",
   "metadata": {
    "lines_to_next_cell": 0
   },
   "outputs": [],
   "source": [
    "df = data[['KM_Travelled','Price_Charged','Cost_of_Trip','Month','Year','Age','Income','Margins']]\n",
    "df.corr()"
   ]
  },
  {
   "cell_type": "markdown",
   "id": "0a08fcfd",
   "metadata": {},
   "source": [
    "\n"
   ]
  },
  {
   "cell_type": "markdown",
   "id": "c65c96d7",
   "metadata": {},
   "source": [
    "<div>\n",
    "<style scoped>\n",
    "    .dataframe tbody tr th:only-of-type {\n",
    "        vertical-align: middle;\n",
    "    }\n",
    "\n",
    "    .dataframe tbody tr th {\n",
    "        vertical-align: top;\n",
    "    }\n",
    "\n",
    "    .dataframe thead th {\n",
    "        text-align: right;\n",
    "    }\n",
    "</style>\n",
    "<table border=\"1\" class=\"dataframe\">\n",
    "  <thead>\n",
    "    <tr style=\"text-align: right;\">\n",
    "      <th></th>\n",
    "      <th>KM_Travelled</th>\n",
    "      <th>Price_Charged</th>\n",
    "      <th>Cost_of_Trip</th>\n",
    "      <th>Month</th>\n",
    "      <th>Year</th>\n",
    "      <th>Age</th>\n",
    "      <th>Income</th>\n",
    "      <th>Margins</th>\n",
    "    </tr>\n",
    "  </thead>\n",
    "  <tbody>\n",
    "    <tr>\n",
    "      <th>KM_Travelled</th>\n",
    "      <td>1.000000</td>\n",
    "      <td>0.835753</td>\n",
    "      <td>0.981848</td>\n",
    "      <td>-0.001903</td>\n",
    "      <td>-0.001072</td>\n",
    "      <td>-0.000369</td>\n",
    "      <td>-0.000544</td>\n",
    "      <td>0.462768</td>\n",
    "    </tr>\n",
    "    <tr>\n",
    "      <th>Price_Charged</th>\n",
    "      <td>0.835753</td>\n",
    "      <td>1.000000</td>\n",
    "      <td>0.859812</td>\n",
    "      <td>-0.061116</td>\n",
    "      <td>-0.036409</td>\n",
    "      <td>-0.003084</td>\n",
    "      <td>0.003228</td>\n",
    "      <td>0.864154</td>\n",
    "    </tr>\n",
    "    <tr>\n",
    "      <th>Cost_of_Trip</th>\n",
    "      <td>0.981848</td>\n",
    "      <td>0.859812</td>\n",
    "      <td>1.000000</td>\n",
    "      <td>-0.008370</td>\n",
    "      <td>-0.001773</td>\n",
    "      <td>-0.000189</td>\n",
    "      <td>-0.000633</td>\n",
    "      <td>0.486056</td>\n",
    "    </tr>\n",
    "    <tr>\n",
    "      <th>Month</th>\n",
    "      <td>-0.001903</td>\n",
    "      <td>-0.061116</td>\n",
    "      <td>-0.008370</td>\n",
    "      <td>1.000000</td>\n",
    "      <td>-0.030490</td>\n",
    "      <td>-0.002226</td>\n",
    "      <td>0.000322</td>\n",
    "      <td>-0.096352</td>\n",
    "    </tr>\n",
    "    <tr>\n",
    "      <th>Year</th>\n",
    "      <td>-0.001072</td>\n",
    "      <td>-0.036409</td>\n",
    "      <td>-0.001773</td>\n",
    "      <td>-0.030490</td>\n",
    "      <td>1.000000</td>\n",
    "      <td>-0.000579</td>\n",
    "      <td>-0.001617</td>\n",
    "      <td>-0.060567</td>\n",
    "    </tr>\n",
    "    <tr>\n",
    "      <th>Age</th>\n",
    "      <td>-0.000369</td>\n",
    "      <td>-0.003084</td>\n",
    "      <td>-0.000189</td>\n",
    "      <td>-0.002226</td>\n",
    "      <td>-0.000579</td>\n",
    "      <td>1.000000</td>\n",
    "      <td>0.003907</td>\n",
    "      <td>-0.005093</td>\n",
    "    </tr>\n",
    "    <tr>\n",
    "      <th>Income</th>\n",
    "      <td>-0.000544</td>\n",
    "      <td>0.003228</td>\n",
    "      <td>-0.000633</td>\n",
    "      <td>0.000322</td>\n",
    "      <td>-0.001617</td>\n",
    "      <td>0.003907</td>\n",
    "      <td>1.000000</td>\n",
    "      <td>0.006148</td>\n",
    "    </tr>\n",
    "    <tr>\n",
    "      <th>Margins</th>\n",
    "      <td>0.462768</td>\n",
    "      <td>0.864154</td>\n",
    "      <td>0.486056</td>\n",
    "      <td>-0.096352</td>\n",
    "      <td>-0.060567</td>\n",
    "      <td>-0.005093</td>\n",
    "      <td>0.006148</td>\n",
    "      <td>1.000000</td>\n",
    "    </tr>\n",
    "  </tbody>\n",
    "</table>\n",
    "</div>\n",
    "\n",
    "\n"
   ]
  },
  {
   "cell_type": "code",
   "execution_count": null,
   "id": "aff389cb",
   "metadata": {
    "lines_to_next_cell": 0
   },
   "outputs": [],
   "source": [
    "plt.figure(figsize=(20,10))\n",
    "sns.heatmap(df.corr(),annot=True,vmin=-1,vmax=1,cmap='coolwarm')"
   ]
  },
  {
   "cell_type": "markdown",
   "id": "31d9fa3e",
   "metadata": {},
   "source": [
    "\n",
    "\n",
    "\n",
    "\n",
    "    <AxesSubplot:>\n",
    "\n",
    "\n",
    "\n",
    "\n",
    "    \n",
    "![png](output_83_1.png)\n",
    "    \n",
    "\n"
   ]
  },
  {
   "cell_type": "code",
   "execution_count": null,
   "id": "ee6ffa51",
   "metadata": {
    "lines_to_next_cell": 2
   },
   "outputs": [],
   "source": [
    "#There is a correlation between Margin & Price_Charged"
   ]
  },
  {
   "cell_type": "code",
   "execution_count": null,
   "id": "6ddcf754",
   "metadata": {
    "lines_to_next_cell": 0
   },
   "outputs": [],
   "source": [
    "city_m = data[data.Month==12].groupby('City').Margins.mean()\n",
    "city_m"
   ]
  },
  {
   "cell_type": "markdown",
   "id": "4fb77925",
   "metadata": {
    "lines_to_next_cell": 0
   },
   "source": [
    "\n",
    "\n",
    "\n",
    "\n",
    "    City\n",
    "    ATLANTA GA         95.844236\n",
    "    AUSTIN TX          90.535487\n",
    "    BOSTON MA          61.158200\n",
    "    CHICAGO IL         49.166594\n",
    "    DALLAS TX         107.653009\n",
    "    DENVER CO         111.229893\n",
    "    LOS ANGELES CA     78.671170\n",
    "    MIAMI FL           98.341176\n",
    "    NASHVILLE TN       78.562585\n",
    "    NEW YORK NY       256.663241\n",
    "    ORANGE COUNTY      71.696141\n",
    "    PHOENIX AZ         72.779471\n",
    "    PITTSBURGH PA      50.946547\n",
    "    SACRAMENTO CA      23.995713\n",
    "    SAN DIEGO CA       67.587428\n",
    "    SEATTLE WA         75.043692\n",
    "    SILICON VALLEY    161.907324\n",
    "    TUCSON AZ          83.594826\n",
    "    WASHINGTON DC      60.778328\n",
    "    Name: Margins, dtype: float64\n",
    "\n",
    "\n",
    "\n"
   ]
  },
  {
   "cell_type": "code",
   "execution_count": null,
   "id": "85492cab",
   "metadata": {
    "lines_to_next_cell": 2
   },
   "outputs": [],
   "source": [
    "dt1 = data[(data.Company=='Pink Cab')&(data.City=='NEW YORK NY')].groupby(['Year','Month']).Margins.mean()\n",
    "dt2 = data[(data.Company=='Yellow Cab')&(data.City=='NEW YORK NY')].groupby(['Year','Month']).Margins.mean()"
   ]
  },
  {
   "cell_type": "code",
   "execution_count": null,
   "id": "ef25dea1",
   "metadata": {
    "lines_to_next_cell": 2
   },
   "outputs": [],
   "source": [
    "dd1 = pd.DataFrame({'Margins_pink':dt1.values,'Transactions_pink':data[data.Company=='Pink Cab'].groupby(['Year','Month']).Transaction_ID.count().values})"
   ]
  },
  {
   "cell_type": "code",
   "execution_count": null,
   "id": "7ccd68b2",
   "metadata": {
    "lines_to_next_cell": 2
   },
   "outputs": [],
   "source": [
    "dd2 = pd.DataFrame({'Margins_yellow':dt2.values,'Transactions_yellow':data[data.Company=='Yellow Cab'].groupby(['Year','Month']).Transaction_ID.count().values})"
   ]
  },
  {
   "cell_type": "code",
   "execution_count": null,
   "id": "04d3eca1",
   "metadata": {
    "lines_to_next_cell": 2
   },
   "outputs": [],
   "source": [
    "#Monthly Margins of Pink Cab"
   ]
  },
  {
   "cell_type": "code",
   "execution_count": null,
   "id": "f954d3a1",
   "metadata": {
    "lines_to_next_cell": 0
   },
   "outputs": [],
   "source": [
    "plt.figure(figsize=(5,5))\n",
    "sns.scatterplot(x=dd1.Transactions_pink,y=dd1.Margins_pink)"
   ]
  },
  {
   "cell_type": "markdown",
   "id": "af79e42d",
   "metadata": {},
   "source": [
    "\n",
    "\n",
    "\n",
    "\n",
    "    <AxesSubplot:xlabel='Transactions_pink', ylabel='Margins_pink'>\n",
    "\n",
    "\n",
    "\n",
    "\n",
    "    \n",
    "![png](output_90_1.png)\n",
    "    \n",
    "\n"
   ]
  },
  {
   "cell_type": "code",
   "execution_count": null,
   "id": "aa8d78ff",
   "metadata": {
    "lines_to_next_cell": 2
   },
   "outputs": [],
   "source": [
    "#Pink Cabs increase their margins with increase in number of Transactions"
   ]
  },
  {
   "cell_type": "code",
   "execution_count": null,
   "id": "db4c8b57",
   "metadata": {
    "lines_to_next_cell": 2
   },
   "outputs": [],
   "source": [
    "#Margins for Yellow cabs"
   ]
  },
  {
   "cell_type": "code",
   "execution_count": null,
   "id": "875e4409",
   "metadata": {
    "lines_to_next_cell": 0
   },
   "outputs": [],
   "source": [
    "plt.figure(figsize=(5,5))\n",
    "sns.scatterplot(x=dd2.Transactions_yellow,y=dd2.Margins_yellow)"
   ]
  },
  {
   "cell_type": "markdown",
   "id": "f684eb5e",
   "metadata": {},
   "source": [
    "\n",
    "\n",
    "\n",
    "\n",
    "    <AxesSubplot:xlabel='Transactions_yellow', ylabel='Margins_yellow'>\n",
    "\n",
    "\n",
    "\n",
    "\n",
    "    \n",
    "![png](output_93_1.png)\n",
    "    \n",
    "\n"
   ]
  },
  {
   "cell_type": "code",
   "execution_count": null,
   "id": "04ac40f8",
   "metadata": {
    "lines_to_next_cell": 2
   },
   "outputs": [],
   "source": [
    "#Yellow Cab decrease the Margin with the increase in Transaction"
   ]
  },
  {
   "cell_type": "code",
   "execution_count": null,
   "id": "0eeadc6f",
   "metadata": {
    "lines_to_next_cell": 2
   },
   "outputs": [],
   "source": [
    "# Null Hypothesis:Margin remain the same regarding Gender for both Yellow Cab & Pink Cab"
   ]
  },
  {
   "cell_type": "code",
   "execution_count": null,
   "id": "fba9f066",
   "metadata": {},
   "outputs": [],
   "source": [
    "a = data[(data.Gender=='Female')&(data.Company=='Yellow Cab')].groupby('Transaction_ID').Margins.mean()\n",
    "b = data[(data.Gender=='Male')&(data.Company=='Yellow Cab')].groupby('Transaction_ID').Margins.mean()\n",
    "print(a.shape[0],b.shape[0])\n",
    "\n",
    "from scipy import stats\n",
    "_, p_value = stats.ttest_ind(a.values,b=b.values,equal_var=True)\n",
    "if(p_value<0.05):\n",
    "    print('We accept alternate hypothesis that there is a statistical difference')\n",
    "else:\n",
    "    print('We accept null hypothesis that there is no statistical difference')\n",
    "    \n",
    "print('P value is ', p_value)"
   ]
  },
  {
   "cell_type": "markdown",
   "id": "8fc9a68d",
   "metadata": {},
   "source": [
    "    116000 158681\n",
    "    We accept alternate hypothesis that there is a statistical difference\n",
    "    P value is  6.060473042494144e-25\n",
    "    \n"
   ]
  },
  {
   "cell_type": "code",
   "execution_count": null,
   "id": "11a6ca1e",
   "metadata": {
    "lines_to_next_cell": 2
   },
   "outputs": [],
   "source": [
    "#Yellow Cab: There is difference in Margin between Male and Female customers"
   ]
  },
  {
   "cell_type": "code",
   "execution_count": null,
   "id": "92612e48",
   "metadata": {},
   "outputs": [],
   "source": [
    "#For Pink Cabs\n",
    "a = data[(data.Gender=='Female')&(data.Company=='Pink Cab')].groupby('Transaction_ID').Margins.mean()\n",
    "b = data[(data.Gender=='Male')&(data.Company=='Pink Cab')].groupby('Transaction_ID').Margins.mean()\n",
    "print(a.shape[0],b.shape[0])\n",
    "\n",
    "from scipy import stats\n",
    "_, p_value = stats.ttest_ind(a.values,b=b.values,equal_var=True)\n",
    "if(p_value<0.05):\n",
    "    print('We accept alternate hypothesis that there is a difference')\n",
    "else:\n",
    "    print('We accept null hypothesis that there is no difference')\n",
    "    \n",
    "print('P value is ', p_value)"
   ]
  },
  {
   "cell_type": "markdown",
   "id": "9a590b6f",
   "metadata": {},
   "source": [
    "    37480 47231\n",
    "    We accept null hypothesis that there is no difference\n",
    "    P value is  0.11515305900425798\n",
    "    \n"
   ]
  },
  {
   "cell_type": "code",
   "execution_count": null,
   "id": "f8c559ec",
   "metadata": {
    "lines_to_next_cell": 2
   },
   "outputs": [],
   "source": [
    "#Pink Cab: There is no difference in Margin between Male and Female customers"
   ]
  },
  {
   "cell_type": "code",
   "execution_count": null,
   "id": "ba052850",
   "metadata": {
    "lines_to_next_cell": 0
   },
   "outputs": [],
   "source": [
    "#Margins per Age\n",
    "data[data.Age<=50].groupby('Company').Margins.mean()"
   ]
  },
  {
   "cell_type": "markdown",
   "id": "a446723c",
   "metadata": {
    "lines_to_next_cell": 0
   },
   "source": [
    "\n",
    "\n",
    "\n",
    "\n",
    "    Company\n",
    "    Pink Cab       62.765586\n",
    "    Yellow Cab    161.081921\n",
    "    Name: Margins, dtype: float64\n",
    "\n",
    "\n",
    "\n"
   ]
  },
  {
   "cell_type": "code",
   "execution_count": null,
   "id": "04420c21",
   "metadata": {
    "lines_to_next_cell": 0
   },
   "outputs": [],
   "source": [
    "data[data.Age>50].groupby('Company').Margins.mean()"
   ]
  },
  {
   "cell_type": "markdown",
   "id": "a2946ebe",
   "metadata": {
    "lines_to_next_cell": 0
   },
   "source": [
    "\n",
    "\n",
    "\n",
    "\n",
    "    Company\n",
    "    Pink Cab       62.053044\n",
    "    Yellow Cab    155.855885\n",
    "    Name: Margins, dtype: float64\n",
    "\n",
    "\n",
    "\n"
   ]
  },
  {
   "cell_type": "code",
   "execution_count": null,
   "id": "f614bc7c",
   "metadata": {},
   "outputs": [],
   "source": [
    "#Pink Cab\n",
    "a = data[(data.Age<=50)&(data.Company=='Pink Cab')].groupby('Transaction_ID').Margins.mean()\n",
    "b = data[(data.Age>50)&(data.Company=='Pink Cab')].groupby('Transaction_ID').Margins.mean()\n",
    "print(a.shape[0],b.shape[0])\n",
    "\n",
    "from scipy import stats\n",
    "_, p_value = stats.ttest_ind(a.values,b=b.values,equal_var=True)\n",
    "if(p_value<0.05):\n",
    "    print('We accept alternate hypothesis that theres a difference')\n",
    "else:\n",
    "    print('We accept null hypothesis that theres no difference')\n",
    "    \n",
    "print('P value is ', p_value)"
   ]
  },
  {
   "cell_type": "markdown",
   "id": "697fce73",
   "metadata": {},
   "source": [
    "    71228 13483\n",
    "    We accept null hypothesis that theres no difference\n",
    "    P value is  0.3281748754798163\n",
    "    \n"
   ]
  },
  {
   "cell_type": "code",
   "execution_count": null,
   "id": "025143ba",
   "metadata": {},
   "outputs": [],
   "source": [
    "#Yellow Cab\n",
    "a = data[(data.Age<=50)&(data.Company=='Yellow Cab')].groupby('Transaction_ID').Margins.mean()\n",
    "b = data[(data.Age>50)&(data.Company=='Yellow Cab')].groupby('Transaction_ID').Margins.mean()\n",
    "print(a.shape[0],b.shape[0])\n",
    "\n",
    "from scipy import stats\n",
    "_, p_value = stats.ttest_ind(a.values,b=b.values,equal_var=True)\n",
    "if(p_value<0.05):\n",
    "    print('We accept alternate hypothesis that theres a difference')\n",
    "else:\n",
    "    print('We accept null hypothesis')\n",
    "    \n",
    "print('P value is ', p_value)"
   ]
  },
  {
   "cell_type": "markdown",
   "id": "4b311be3",
   "metadata": {},
   "source": [
    "    231480 43201\n",
    "    We accept alternate hypothesis that theres a difference\n",
    "    P value is  6.4942568177993685e-09\n",
    "    \n"
   ]
  },
  {
   "cell_type": "code",
   "execution_count": null,
   "id": "3572f439",
   "metadata": {
    "lines_to_next_cell": 2
   },
   "outputs": [],
   "source": [
    "#Yellow Cabs also gives discount to people older than 50"
   ]
  },
  {
   "cell_type": "code",
   "execution_count": null,
   "id": "e921598a",
   "metadata": {
    "lines_to_next_cell": 2
   },
   "outputs": [],
   "source": [
    "#Is there difference in margins for Card payer and Cash payers"
   ]
  },
  {
   "cell_type": "code",
   "execution_count": null,
   "id": "9c64c1a0",
   "metadata": {},
   "outputs": [],
   "source": [
    "#Pink Cab\n",
    "a = data[(data.Payment_Mode=='Cash')&(data.Company=='Pink Cab')].groupby('Transaction_ID').Margins.mean()\n",
    "b = data[(data.Payment_Mode=='Card')&(data.Company=='Pink Cab')].groupby('Transaction_ID').Margins.mean()\n",
    "\n",
    "\n",
    "_, p_value = stats.ttest_ind(a.values,b=b.values,equal_var=True)\n",
    "if(p_value<0.05):\n",
    "    print('We accept alternate hypothesis that theres a difference')\n",
    "else:\n",
    "    print('We accept null hypothesis that theres no difference')\n",
    "    \n",
    "print('P value is ', p_value)"
   ]
  },
  {
   "cell_type": "markdown",
   "id": "38147129",
   "metadata": {},
   "source": [
    "    We accept null hypothesis that theres no difference\n",
    "    P value is  0.7900465828793288\n",
    "    \n"
   ]
  },
  {
   "cell_type": "code",
   "execution_count": null,
   "id": "28e0b983",
   "metadata": {},
   "outputs": [],
   "source": [
    "#Yellow Cab\n",
    "a = data[(data.Payment_Mode=='Cash')&(data.Company=='Yellow Cab')].groupby('Transaction_ID').Margins.mean()\n",
    "b = data[(data.Payment_Mode=='Card')&(data.Company=='Yellow Cab')].groupby('Transaction_ID').Margins.mean()\n",
    "\n",
    "\n",
    "_, p_value = stats.ttest_ind(a.values,b=b.values,equal_var=True)\n",
    "if(p_value<0.05):\n",
    "    print('We accept alternate hypothesis that there is a statistical difference')\n",
    "else:\n",
    "    print('We accept null hypothesis that there is no statistical difference')\n",
    "    \n",
    "print('P value is ', p_value)"
   ]
  },
  {
   "cell_type": "markdown",
   "id": "9b9d4265",
   "metadata": {},
   "source": [
    "    We accept null hypothesis that there is no statistical difference\n",
    "    P value is  0.29330606382985325\n",
    "    \n"
   ]
  },
  {
   "cell_type": "code",
   "execution_count": null,
   "id": "309d4dba",
   "metadata": {
    "lines_to_next_cell": 2
   },
   "outputs": [],
   "source": [
    "#There is no difference in Margin regarding mode of Payment for both Yellow & Pink Cab"
   ]
  },
  {
   "cell_type": "code",
   "execution_count": null,
   "id": "811f0e84",
   "metadata": {},
   "outputs": [],
   "source": []
  }
 ],
 "metadata": {
  "jupytext": {
   "cell_metadata_filter": "-all",
   "main_language": "python",
   "notebook_metadata_filter": "-all"
  },
  "kernelspec": {
   "display_name": "Python 3.10.8 64-bit (microsoft store)",
   "language": "python",
   "name": "python3"
  },
  "language_info": {
   "name": "python",
   "version": "3.10.8"
  },
  "vscode": {
   "interpreter": {
    "hash": "e457c5311e80ba574586efe204d12594955c2a1d4c0f9c849d2ff6c5c9186fa9"
   }
  }
 },
 "nbformat": 4,
 "nbformat_minor": 5
}
